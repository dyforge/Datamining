{
  "nbformat": 4,
  "nbformat_minor": 0,
  "metadata": {
    "colab": {
      "provenance": [],
      "collapsed_sections": []
    },
    "kernelspec": {
      "name": "python3",
      "display_name": "Python 3"
    },
    "language_info": {
      "name": "python"
    },
    "accelerator": "GPU"
  },
  "cells": [
    {
      "cell_type": "code",
      "execution_count": null,
      "metadata": {
        "id": "I6vtDCU2nZqV"
      },
      "outputs": [],
      "source": [
        "import keras\n",
        "import numpy as np \n",
        "import pandas as pd \n",
        "from PIL import Image\n",
        "import seaborn as sns\n",
        "import matplotlib.pyplot as plt\n",
        "import os\n",
        "import torch\n",
        "from torchvision import transforms\n",
        "from torchvision.datasets import ImageFolder\n",
        "from torch.utils.data import Subset\n",
        "from sklearn.model_selection import train_test_split\n",
        "from torchvision.transforms import Compose, ToTensor, Resize\n",
        "from torch.utils.data import DataLoader\n",
        "from torch.nn.functional import normalize\n",
        "import torchvision\n",
        "\n",
        "from keras_preprocessing.image import img_to_array\n",
        "from keras_preprocessing.image import load_img"
      ]
    },
    {
      "cell_type": "code",
      "source": [
        "from google.colab import drive\n",
        "drive.mount('/content/drive')"
      ],
      "metadata": {
        "colab": {
          "base_uri": "https://localhost:8080/"
        },
        "id": "2rxogFjvseeI",
        "outputId": "0df0d925-37ed-4744-b5e8-984767247931"
      },
      "execution_count": null,
      "outputs": [
        {
          "output_type": "stream",
          "name": "stdout",
          "text": [
            "Mounted at /content/drive\n"
          ]
        }
      ]
    },
    {
      "cell_type": "code",
      "source": [
        "%cd drive/My Drive\n",
        "%cd UTA/5334/ImageClassifier"
      ],
      "metadata": {
        "colab": {
          "base_uri": "https://localhost:8080/"
        },
        "id": "8wzi9I7XskFf",
        "outputId": "650b8de5-2d70-4fa8-b3a2-cffea545f40c"
      },
      "execution_count": null,
      "outputs": [
        {
          "output_type": "stream",
          "name": "stdout",
          "text": [
            "/content/drive/My Drive\n",
            "/content/drive/My Drive/UTA/5334/ImageClassifier\n"
          ]
        }
      ]
    },
    {
      "cell_type": "code",
      "source": [
        "import os\n",
        "img_data_dir = 'caltech101_classification'\n",
        "print(\"img_data_dir: \",img_data_dir)\n",
        "print(\"Total Number of Images of different class:\")\n",
        "print(\"# of Airplane:\",len(os.listdir(os.path.join(img_data_dir,'airplanes'))))\n",
        "print(\"# of Motorbikes:\",len(os.listdir(os.path.join(img_data_dir,'Motorbikes'))))\n",
        "print(\"# of Schooner:\",len(os.listdir(os.path.join(img_data_dir,'schooner'))))"
      ],
      "metadata": {
        "colab": {
          "base_uri": "https://localhost:8080/"
        },
        "id": "6bDMley9sqtO",
        "outputId": "da3285e2-8efb-4620-a078-5ccc3a1afc93"
      },
      "execution_count": null,
      "outputs": [
        {
          "output_type": "stream",
          "name": "stdout",
          "text": [
            "img_data_dir:  caltech101_classification\n",
            "Total Number of Images of different class:\n",
            "# of Airplane: 800\n",
            "# of Motorbikes: 798\n",
            "# of Schooner: 63\n"
          ]
        }
      ]
    },
    {
      "cell_type": "markdown",
      "source": [
        "Loading Images into Training and Validation Dataset having split ratio of 80:20\n",
        "Batch Size: 10\n",
        "Image Size :  240x240"
      ],
      "metadata": {
        "id": "zuPPwxctvUUo"
      }
    },
    {
      "cell_type": "code",
      "source": [
        "#Reference : (https://discuss.pytorch.org/t/how-to-split-dataset-into-test-and-validation-sets/33987/4)\n",
        "def train_val_dataset(dataset, val_split=0.20):\n",
        "    train_idx, val_idx = train_test_split(list(range(len(dataset))), test_size=val_split)\n",
        "    datasets = {}\n",
        "    datasets['train'] = Subset(dataset, train_idx)\n",
        "    datasets['val'] = Subset(dataset, val_idx)\n",
        "    return datasets\n",
        "\n",
        "dataset = ImageFolder(img_data_dir, transform=Compose([Resize((240,240)),ToTensor()]))\n",
        "print(\"Total Number of Images\",len(dataset))\n",
        "datasets = train_val_dataset(dataset)\n",
        "print(\"Total Number of Images in Training Dataset \",len(datasets['train']))\n",
        "print(\"Total Number of Images in Validation Dataset \",len(datasets['val']))\n",
        "print(\"Dataset Information \",datasets['train'].dataset)\n",
        "\n",
        "dataloaders = {x:DataLoader(datasets[x],4, shuffle=True) for x in ['train','val']}\n",
        "x,y = next(iter(dataloaders['train']))\n",
        "print(x.shape, y.shape)"
      ],
      "metadata": {
        "colab": {
          "base_uri": "https://localhost:8080/"
        },
        "id": "p2AJn1NTt-ty",
        "outputId": "3e34f633-403f-4b5e-f17d-5fdeed2d56cb"
      },
      "execution_count": null,
      "outputs": [
        {
          "output_type": "stream",
          "name": "stdout",
          "text": [
            "Total Number of Images 1661\n",
            "Total Number of Images in Training Dataset  1328\n",
            "Total Number of Images in Validation Dataset  333\n",
            "Dataset Information  Dataset ImageFolder\n",
            "    Number of datapoints: 1661\n",
            "    Root location: caltech101_classification\n",
            "    StandardTransform\n",
            "Transform: Compose(\n",
            "               Resize(size=(240, 240), interpolation=bilinear, max_size=None, antialias=None)\n",
            "               ToTensor()\n",
            "           )\n",
            "torch.Size([4, 3, 240, 240]) torch.Size([4])\n"
          ]
        }
      ]
    },
    {
      "cell_type": "markdown",
      "source": [
        "Save Training and Validation dataset in their respective folder"
      ],
      "metadata": {
        "id": "A9BXDvRlHoom"
      }
    },
    {
      "cell_type": "code",
      "source": [
        "classes = ('Motorbikes', 'airplanes', 'schooner')\n",
        "print(classes)\n",
        "batch_size = 4"
      ],
      "metadata": {
        "colab": {
          "base_uri": "https://localhost:8080/"
        },
        "id": "UuAC-mhT0eis",
        "outputId": "7ba7aabf-2132-4f90-d7af-3e1fff3abfa8"
      },
      "execution_count": null,
      "outputs": [
        {
          "output_type": "stream",
          "name": "stdout",
          "text": [
            "('Motorbikes', 'airplanes', 'schooner')\n"
          ]
        }
      ]
    },
    {
      "cell_type": "code",
      "source": [
        "# Reference : (https://pytorch.org/tutorials/beginner/blitz/cifar10_tutorial.html#training-a-classifier)\n",
        "import matplotlib.pyplot as plt\n",
        "import numpy as np\n",
        "\n",
        "# functions to show an image\n",
        "\n",
        "\n",
        "def imshow(img):\n",
        "    img = img / 2 + 0.5     # unnormalize\n",
        "    npimg = img.numpy()\n",
        "    plt.imshow(np.transpose(npimg, (1, 2, 0)))\n",
        "    plt.show()\n",
        "\n",
        "\n",
        "# get some random training images\n",
        "dataiter = iter(dataloaders['train']) # Modification to map dataloader\n",
        "images, labels = next(dataiter)\n",
        "\n",
        "# show images\n",
        "imshow(torchvision.utils.make_grid(images))\n",
        "# print labels\n",
        "print(' '.join(f'{classes[labels[j]]:5s}' for j in range(batch_size)))"
      ],
      "metadata": {
        "colab": {
          "base_uri": "https://localhost:8080/",
          "height": 154
        },
        "id": "tyIpSAV5z8mE",
        "outputId": "76105850-25aa-479f-b9ef-c3f43879bb4f"
      },
      "execution_count": null,
      "outputs": [
        {
          "output_type": "display_data",
          "data": {
            "text/plain": [
              "<Figure size 432x288 with 1 Axes>"
            ],
            "image/png": "[encoded data removed]"
          },
          "metadata": {
            "needs_background": "light"
          }
        },
        {
          "output_type": "stream",
          "name": "stdout",
          "text": [
            "airplanes Motorbikes airplanes airplanes\n"
          ]
        }
      ]
    },
    {
      "cell_type": "code",
      "source": [
        "# Reference : (https://pytorch.org/tutorials/beginner/blitz/cifar10_tutorial.html#training-a-classifier)\n",
        "import torch.nn as nn\n",
        "import torch.nn.functional as F\n",
        "\n",
        "\n",
        "class BaseNet(nn.Module):\n",
        "    def __init__(self):\n",
        "        super().__init__()\n",
        "        self.conv1 = nn.Conv2d(3, 6, 3)\n",
        "        self.pool = nn.AdaptiveAvgPool2d(3)\n",
        "        self.conv2 = nn.Conv2d(6, 12, 3)\n",
        "        self.fc1 = nn.Linear(12 * 3 * 3, 240)\n",
        "        self.fc2 = nn.Linear(240, 120)\n",
        "        self.fc3 = nn.Linear(120, 10)\n",
        "\n",
        "    def forward(self, x):\n",
        "        x = self.pool(F.relu(self.conv1(x)))\n",
        "        x = self.pool(F.relu(self.conv2(x)))\n",
        "        x = torch.flatten(x, 1) # flatten all dimensions except batch\n",
        "        x = F.relu(self.fc1(x))\n",
        "        x = F.relu(self.fc2(x))\n",
        "        x = self.fc3(x)\n",
        "        return x\n",
        "\n",
        "\n",
        "net = BaseNet()"
      ],
      "metadata": {
        "id": "kE-4H7Ya3Mcd"
      },
      "execution_count": null,
      "outputs": []
    },
    {
      "cell_type": "code",
      "source": [
        "# Reference : (https://pytorch.org/tutorials/beginner/blitz/cifar10_tutorial.html#training-a-classifier)\n",
        "\n",
        "import torch.optim as optim\n",
        "\n",
        "criterion = nn.CrossEntropyLoss()\n",
        "optimizer = optim.SGD(net.parameters(), lr=0.001, momentum=0.9)"
      ],
      "metadata": {
        "id": "k517eI6X3yun"
      },
      "execution_count": null,
      "outputs": []
    },
    {
      "cell_type": "code",
      "source": [
        "# Reference : (https://pytorch.org/tutorials/beginner/blitz/cifar10_tutorial.html#training-a-classifier)\n",
        "\n",
        "for epoch in range(2):  # loop over the dataset multiple times\n",
        "\n",
        "    running_loss = 0.0\n",
        "    for i, data in enumerate(dataloaders['train'], 0): # Modification to map dataloader\n",
        "        # get the inputs; data is a list of [inputs, labels]\n",
        "        inputs, labels = data\n",
        "\n",
        "        # zero the parameter gradients\n",
        "        optimizer.zero_grad()\n",
        "\n",
        "        # forward + backward + optimize\n",
        "        outputs = net(inputs)\n",
        "        loss = criterion(outputs, labels)\n",
        "        loss.backward()\n",
        "        optimizer.step()\n",
        "\n",
        "        # print statistics\n",
        "        running_loss += loss.item()\n",
        "        if i % 100 == 99:    # print every 2000 mini-batches\n",
        "            print(f'[epoch : {epoch + 1}, mini-batches : {i + 1:5d}] loss: {running_loss / 2000:.3f}')\n",
        "            running_loss = 0.0\n",
        "\n",
        "print('Finished Training Base Model')"
      ],
      "metadata": {
        "colab": {
          "base_uri": "https://localhost:8080/"
        },
        "id": "_OlPVi-kcq08",
        "outputId": "12427898-2e19-4e3c-c957-cf97a8df3f31"
      },
      "execution_count": null,
      "outputs": [
        {
          "output_type": "stream",
          "name": "stdout",
          "text": [
            "[epoch : 1, mini-batches :   100] loss: 0.107\n",
            "[epoch : 1, mini-batches :   200] loss: 0.070\n",
            "[epoch : 1, mini-batches :   300] loss: 0.044\n",
            "[epoch : 2, mini-batches :   100] loss: 0.043\n",
            "[epoch : 2, mini-batches :   200] loss: 0.041\n",
            "[epoch : 2, mini-batches :   300] loss: 0.043\n",
            "Finished Training Base Model\n"
          ]
        }
      ]
    },
    {
      "cell_type": "code",
      "source": [
        "# Reference : (https://pytorch.org/tutorials/beginner/blitz/cifar10_tutorial.html#training-a-classifier)\n",
        "PATH = './image_classifier.pth'\n",
        "torch.save(net.state_dict(), PATH)"
      ],
      "metadata": {
        "id": "UIMvog_0et50"
      },
      "execution_count": null,
      "outputs": []
    },
    {
      "cell_type": "code",
      "source": [
        "# Reference : (https://pytorch.org/tutorials/beginner/blitz/cifar10_tutorial.html#training-a-classifier)\n",
        "\n",
        "dataiter = iter(dataloaders['train']) # Modification to map dataloader\n",
        "images, labels = next(dataiter)\n",
        "\n",
        "# print images\n",
        "imshow(torchvision.utils.make_grid(images))\n",
        "print('GroundTruth: ', ' '.join(f'{classes[labels[j]]:5s}' for j in range(4)))"
      ],
      "metadata": {
        "colab": {
          "base_uri": "https://localhost:8080/",
          "height": 154
        },
        "id": "H7XIjDKYe9U_",
        "outputId": "b51144fe-7f69-4cec-833f-1a6aed5c8d90"
      },
      "execution_count": null,
      "outputs": [
        {
          "output_type": "display_data",
          "data": {
            "text/plain": [
              "<Figure size 432x288 with 1 Axes>"
            ],
            "image/png": "[encoded data removed]"
          },
          "metadata": {
            "needs_background": "light"
          }
        },
        {
          "output_type": "stream",
          "name": "stdout",
          "text": [
            "GroundTruth:  airplanes Motorbikes schooner airplanes\n"
          ]
        }
      ]
    },
    {
      "cell_type": "code",
      "source": [
        "# Reference : (https://pytorch.org/tutorials/beginner/blitz/cifar10_tutorial.html#training-a-classifier)\n",
        "net = BaseNet()\n",
        "net.load_state_dict(torch.load(PATH))"
      ],
      "metadata": {
        "colab": {
          "base_uri": "https://localhost:8080/"
        },
        "id": "D1_zT5cVgFdx",
        "outputId": "42b306de-11b6-4dfd-9979-6b24bd73c107"
      },
      "execution_count": null,
      "outputs": [
        {
          "output_type": "execute_result",
          "data": {
            "text/plain": [
              "<All keys matched successfully>"
            ]
          },
          "metadata": {},
          "execution_count": 16
        }
      ]
    },
    {
      "cell_type": "code",
      "source": [
        "# Reference : (https://pytorch.org/tutorials/beginner/blitz/cifar10_tutorial.html#training-a-classifier)\n",
        "\n",
        "outputs = net(images)"
      ],
      "metadata": {
        "id": "CtPp6aUEgFWf"
      },
      "execution_count": null,
      "outputs": []
    },
    {
      "cell_type": "code",
      "source": [
        "# Reference : (https://pytorch.org/tutorials/beginner/blitz/cifar10_tutorial.html#training-a-classifier)\n",
        "_, predicted = torch.max(outputs, 1)\n",
        "\n",
        "print('Predicted: ', ' '.join(f'{classes[predicted[j]]:5s}'\n",
        "                              for j in range(4)))"
      ],
      "metadata": {
        "colab": {
          "base_uri": "https://localhost:8080/"
        },
        "id": "EoMjJQUBgcl_",
        "outputId": "2f39a730-670c-4c58-9f8d-111fe4c183b4"
      },
      "execution_count": null,
      "outputs": [
        {
          "output_type": "stream",
          "name": "stdout",
          "text": [
            "Predicted:  airplanes airplanes airplanes airplanes\n"
          ]
        }
      ]
    },
    {
      "cell_type": "code",
      "source": [
        "# Reference : (https://pytorch.org/tutorials/beginner/blitz/cifar10_tutorial.html#training-a-classifier)\n",
        "correct = 0\n",
        "total = 0\n",
        "# since we're not training, we don't need to calculate the gradients for our outputs\n",
        "with torch.no_grad():\n",
        "    for data in dataloaders['val']: # Modification to map dataloader\n",
        "        images, labels = data\n",
        "        # calculate outputs by running images through the network\n",
        "        outputs = net(images)\n",
        "        # the class with the highest energy is what we choose as prediction\n",
        "        _, predicted = torch.max(outputs.data, 1)\n",
        "        total += labels.size(0)\n",
        "        correct += (predicted == labels).sum().item()\n",
        "first_model_accuracy = 100 * correct // total # Modification\n",
        "print(\"Accuracy of the First Network on the validation images:\", first_model_accuracy ,'%') # Modification"
      ],
      "metadata": {
        "colab": {
          "base_uri": "https://localhost:8080/"
        },
        "id": "m_ImZ08vhWpr",
        "outputId": "0de0bfb7-f26f-488b-a90e-0a3de8ac6652"
      },
      "execution_count": null,
      "outputs": [
        {
          "output_type": "stream",
          "name": "stdout",
          "text": [
            "Accuracy of the First Network on the validation images: 47 %\n"
          ]
        }
      ]
    },
    {
      "cell_type": "code",
      "source": [
        "# Reference : (https://pytorch.org/tutorials/beginner/blitz/cifar10_tutorial.html#training-a-classifier)\n",
        "\n",
        "# prepare to count predictions for each class\n",
        "correct_pred = {classname: 0 for classname in classes}\n",
        "total_pred = {classname: 0 for classname in classes}\n",
        "\n",
        "# again no gradients needed\n",
        "with torch.no_grad():\n",
        "    for data in dataloaders['val']: # Modification to map dataloader\n",
        "        images, labels = data\n",
        "        outputs = net(images)\n",
        "        _, predictions = torch.max(outputs, 1)\n",
        "        # collect the correct predictions for each class\n",
        "        for label, prediction in zip(labels, predictions):\n",
        "            if label == prediction:\n",
        "                correct_pred[classes[label]] += 1\n",
        "            total_pred[classes[label]] += 1\n",
        "\n",
        "\n",
        "# print accuracy for each class\n",
        "for classname, correct_count in correct_pred.items():\n",
        "    class_accuracy = 100 * float(correct_count) / total_pred[classname] # Modification to map dataloader\n",
        "    print(f'Accuracy for class: {classname:5s} is {class_accuracy:.1f} %')\n",
        "\n",
        "    # Plot graph for each class Airplane, Motorbikes, Schooner\n",
        "    plt.title(\"Base Model Perdiction Accuracy for each class\")\n",
        "    plt.xlabel(\"Class\")\n",
        "    plt.ylabel(\"Accuracy\")\n",
        "    plt.bar(classname, class_accuracy)\n"
      ],
      "metadata": {
        "colab": {
          "base_uri": "https://localhost:8080/",
          "height": 349
        },
        "id": "LzxKRxMdk-gG",
        "outputId": "95c0fefc-0d36-407b-dbc5-748c6d1e5d7d"
      },
      "execution_count": null,
      "outputs": [
        {
          "output_type": "stream",
          "name": "stdout",
          "text": [
            "Accuracy for class: Motorbikes is 0.0 %\n",
            "Accuracy for class: airplanes is 100.0 %\n",
            "Accuracy for class: schooner is 0.0 %\n"
          ]
        },
        {
          "output_type": "display_data",
          "data": {
            "text/plain": [
              "<Figure size 432x288 with 1 Axes>"
            ],
            "image/png": "[encoded data removed]"
          },
          "metadata": {
            "needs_background": "light"
          }
        }
      ]
    },
    {
      "cell_type": "code",
      "source": [
        "# Reference : (https://pytorch.org/tutorials/beginner/blitz/cifar10_tutorial.html#training-a-classifier)\n",
        "import torch.nn as nn\n",
        "import torch.nn.functional as F\n",
        "\n",
        "\n",
        "class Model1Net(nn.Module):\n",
        "    def __init__(self):\n",
        "        super().__init__()\n",
        "        self.conv1 = nn.Conv2d(3, 16, 6) # Modification to Hyper-Parameters \n",
        "        self.pool = nn.AdaptiveAvgPool2d(6)\n",
        "        self.conv2 = nn.Conv2d(16, 32, 6) # Modification to Hyper-Parameters\n",
        "        self.fc1 = nn.Linear(32 * 6 * 6, 120) # Modification to Hyper-Parameters\n",
        "        self.fc2 = nn.Linear(120, 60) # Modification to Hyper-Parameters\n",
        "        self.fc3 = nn.Linear(60, 10) # Modification to Hyper-Parameters\n",
        "\n",
        "    def forward(self, x):\n",
        "        x = self.pool(F.relu(self.conv1(x)))\n",
        "        x = self.pool(F.relu(self.conv2(x)))\n",
        "        x = torch.flatten(x, 1) # flatten all dimensions except batch\n",
        "        x = F.relu(self.fc1(x))\n",
        "        x = F.relu(self.fc2(x))\n",
        "        x = self.fc3(x)\n",
        "        return x\n",
        "\n",
        "\n",
        "model1net = Model1Net()"
      ],
      "metadata": {
        "id": "Mj9VWuTmmtC6"
      },
      "execution_count": null,
      "outputs": []
    },
    {
      "cell_type": "code",
      "source": [
        "# Reference : (https://pytorch.org/tutorials/beginner/blitz/cifar10_tutorial.html#training-a-classifier)\n",
        "\n",
        "import torch.optim as optim\n",
        "\n",
        "criterion = nn.CrossEntropyLoss()\n",
        "optimizer = optim.SGD(model1net.parameters(), lr=0.001, momentum=0.9)"
      ],
      "metadata": {
        "id": "xgdI7uMjnnps"
      },
      "execution_count": null,
      "outputs": []
    },
    {
      "cell_type": "code",
      "source": [
        "# Reference : (https://pytorch.org/tutorials/beginner/blitz/cifar10_tutorial.html#training-a-classifier)\n",
        "for epoch in range(5):  # let's run for 5 epochs \n",
        "\n",
        "    running_loss = 0.0\n",
        "    for i, data in enumerate(dataloaders['train'], 0): # Modification to map dataloader\n",
        "        # get the inputs; data is a list of [inputs, labels]\n",
        "        inputs, labels = data\n",
        "\n",
        "        # zero the parameter gradients\n",
        "        optimizer.zero_grad()\n",
        "\n",
        "        # forward + backward + optimize\n",
        "        outputs = model1net(inputs) # Modification to map to Model 1 \n",
        "        loss = criterion(outputs, labels)\n",
        "        loss.backward()\n",
        "        optimizer.step()\n",
        "\n",
        "        # print statistics\n",
        "        running_loss += loss.item()\n",
        "        if i % 100 == 99:    # print every 100 mini-batches\n",
        "            print(f'[epoch : {epoch + 1}, mini-batches : {i + 1:5d}] loss: {running_loss / 2000:.3f}')\n",
        "            running_loss = 0.0\n",
        "\n",
        "print('Finished Training Model 1')"
      ],
      "metadata": {
        "colab": {
          "base_uri": "https://localhost:8080/"
        },
        "id": "DCXcWu8xntVR",
        "outputId": "173987c1-c5d1-40a7-d07b-7be4ba08509f"
      },
      "execution_count": null,
      "outputs": [
        {
          "output_type": "stream",
          "name": "stdout",
          "text": [
            "[epoch : 1, mini-batches :   100] loss: 0.081\n",
            "[epoch : 1, mini-batches :   200] loss: 0.043\n",
            "[epoch : 1, mini-batches :   300] loss: 0.030\n",
            "[epoch : 2, mini-batches :   100] loss: 0.025\n",
            "[epoch : 2, mini-batches :   200] loss: 0.021\n",
            "[epoch : 2, mini-batches :   300] loss: 0.022\n",
            "[epoch : 3, mini-batches :   100] loss: 0.022\n",
            "[epoch : 3, mini-batches :   200] loss: 0.017\n",
            "[epoch : 3, mini-batches :   300] loss: 0.017\n",
            "[epoch : 4, mini-batches :   100] loss: 0.016\n",
            "[epoch : 4, mini-batches :   200] loss: 0.018\n",
            "[epoch : 4, mini-batches :   300] loss: 0.015\n",
            "[epoch : 5, mini-batches :   100] loss: 0.014\n",
            "[epoch : 5, mini-batches :   200] loss: 0.017\n",
            "[epoch : 5, mini-batches :   300] loss: 0.019\n",
            "Finished Training Model 1\n"
          ]
        }
      ]
    },
    {
      "cell_type": "code",
      "source": [
        "# Reference : (https://pytorch.org/tutorials/beginner/blitz/cifar10_tutorial.html#training-a-classifier)\n",
        "\n",
        "correct = 0\n",
        "total = 0\n",
        "# since we're not training, we don't need to calculate the gradients for our outputs\n",
        "with torch.no_grad():\n",
        "    for data in dataloaders['val']: # Modification to map dataloader\n",
        "        images, labels = data\n",
        "        # calculate outputs by running images through the network\n",
        "        outputs = model1net(images)\n",
        "        # the class with the highest energy is what we choose as prediction\n",
        "        _, predicted = torch.max(outputs.data, 1)\n",
        "        total += labels.size(0)\n",
        "        correct += (predicted == labels).sum().item()\n",
        "second_model_accuracy = 100 * correct // total\n",
        "print(\"Accuracy of the Second Network on the validation images:\", second_model_accuracy ,'%')"
      ],
      "metadata": {
        "colab": {
          "base_uri": "https://localhost:8080/"
        },
        "id": "LM6L5tKRpko1",
        "outputId": "0a581139-b1a8-4b76-bd57-cf8de790a369"
      },
      "execution_count": null,
      "outputs": [
        {
          "output_type": "stream",
          "name": "stdout",
          "text": [
            "Accuracy of the Second Network on the validation images: 85 %\n"
          ]
        }
      ]
    },
    {
      "cell_type": "code",
      "source": [
        "# Reference : (https://pytorch.org/tutorials/beginner/blitz/cifar10_tutorial.html#training-a-classifier)\n",
        "\n",
        "# prepare to count predictions for each class\n",
        "correct_pred = {classname: 0 for classname in classes}\n",
        "total_pred = {classname: 0 for classname in classes}\n",
        "\n",
        "# again no gradients needed\n",
        "with torch.no_grad():\n",
        "    for data in dataloaders['val']: # Modification to map dataloader\n",
        "        images, labels = data\n",
        "        outputs = model1net(images)\n",
        "        _, predictions = torch.max(outputs, 1)\n",
        "        # collect the correct predictions for each class\n",
        "        for label, prediction in zip(labels, predictions):\n",
        "            if label == prediction:\n",
        "                correct_pred[classes[label]] += 1\n",
        "            total_pred[classes[label]] += 1\n",
        "\n",
        "\n",
        "# print accuracy for each class\n",
        "for classname, correct_count in correct_pred.items():\n",
        "    class_accuracy = 100 * float(correct_count) / total_pred[classname]\n",
        "    print(f'Accuracy for class: {classname:5s} is {class_accuracy:.1f} %')\n",
        "\n",
        "    # Plot graph for each class Airplane, Motorbikes, Schooner\n",
        "    plt.title(\"Model 1 Perdiction Accuracy for each class\")\n",
        "    plt.xlabel(\"Class\")\n",
        "    plt.ylabel(\"Accuracy\")\n",
        "    plt.bar(classname, class_accuracy)"
      ],
      "metadata": {
        "colab": {
          "base_uri": "https://localhost:8080/",
          "height": 349
        },
        "id": "eZ1XVXq2qXzY",
        "outputId": "f18098bb-17f8-4682-fdc1-2ce7700f1397"
      },
      "execution_count": null,
      "outputs": [
        {
          "output_type": "stream",
          "name": "stdout",
          "text": [
            "Accuracy for class: Motorbikes is 96.5 %\n",
            "Accuracy for class: airplanes is 80.5 %\n",
            "Accuracy for class: schooner is 50.0 %\n"
          ]
        },
        {
          "output_type": "display_data",
          "data": {
            "text/plain": [
              "<Figure size 432x288 with 1 Axes>"
            ],
            "image/png": "[encoded data removed]"
          },
          "metadata": {
            "needs_background": "light"
          }
        }
      ]
    },
    {
      "cell_type": "code",
      "source": [
        "# Reference : (https://pytorch.org/tutorials/beginner/blitz/cifar10_tutorial.html#training-a-classifier)\n",
        "import torch.nn as nn\n",
        "import torch.nn.functional as F\n",
        "\n",
        "\n",
        "class Model2Net(nn.Module):\n",
        "    def __init__(self):\n",
        "        super().__init__()\n",
        "        self.conv1 = nn.Conv2d(3, 6, 6) # Modification to Hyper-Parameters \n",
        "        self.pool = nn.AdaptiveAvgPool2d(6)\n",
        "        self.conv2 = nn.Conv2d(6, 12, 6) # Modification to Hyper-Parameters\n",
        "        self.conv3 = nn.Conv2d(12, 24, 6) # Modification to Hyper-Parameters\n",
        "        self.conv4 = nn.Conv2d(24, 48, 6) # Modification to Hyper-Parameters\n",
        "        self.conv5 = nn.Conv2d(48, 96, 6) # Modification to Hyper-Parameters\n",
        "        self.fc1 = nn.Linear(96 * 6 * 6, 160) # Modification to Hyper-Parameters\n",
        "        self.fc2 = nn.Linear(160, 60) # Modification to Hyper-Parameters\n",
        "        self.fc3 = nn.Linear(60, 10) # Modification to Hyper-Parameters\n",
        "\n",
        "    def forward(self, x):\n",
        "        x = self.pool(F.relu(self.conv1(x)))\n",
        "        x = self.pool(F.relu(self.conv2(x)))\n",
        "        x = self.pool(F.relu(self.conv3(x)))\n",
        "        x = self.pool(F.relu(self.conv4(x)))\n",
        "        x = self.pool(F.relu(self.conv5(x)))\n",
        "        x = torch.flatten(x, 1) # flatten all dimensions except batch\n",
        "        x = F.relu(self.fc1(x))\n",
        "        x = F.relu(self.fc2(x))\n",
        "        x = self.fc3(x)\n",
        "        return x\n",
        "\n",
        "\n",
        "model2net = Model2Net()"
      ],
      "metadata": {
        "id": "ISDOoTnV8KEw"
      },
      "execution_count": null,
      "outputs": []
    },
    {
      "cell_type": "code",
      "source": [
        "# Reference : (https://pytorch.org/tutorials/beginner/blitz/cifar10_tutorial.html#training-a-classifier)\n",
        "\n",
        "import torch.optim as optim\n",
        "\n",
        "criterion = nn.CrossEntropyLoss()\n",
        "optimizer = optim.SGD(model2net.parameters(), lr=0.001, momentum=0.9)\n",
        "\n",
        "for epoch in range(10):  # let's run for 5 epochs \n",
        "\n",
        "    running_loss = 0.0\n",
        "    for i, data in enumerate(dataloaders['train'], 0): # Modification to map dataloader\n",
        "        # get the inputs; data is a list of [inputs, labels]\n",
        "        inputs, labels = data\n",
        "\n",
        "        # zero the parameter gradients\n",
        "        optimizer.zero_grad()\n",
        "\n",
        "        # forward + backward + optimize\n",
        "        outputs = model2net(inputs) # Modification to map to Model 1 \n",
        "        loss = criterion(outputs, labels)\n",
        "        loss.backward()\n",
        "        optimizer.step()\n",
        "\n",
        "        # print statistics\n",
        "        running_loss += loss.item()\n",
        "        if i % 100 == 99:    # print every 100 mini-batches\n",
        "            print(f'[epoch : {epoch + 1}, mini-batches : {i + 1:5d}] loss: {running_loss / 2000:.3f}')\n",
        "            running_loss = 0.0\n",
        "\n",
        "print('Finished Training Model 2')"
      ],
      "metadata": {
        "colab": {
          "base_uri": "https://localhost:8080/"
        },
        "id": "NG7f19iQ-YID",
        "outputId": "c9aa2cf9-18d9-4503-c2df-146ddc0cc7a3"
      },
      "execution_count": null,
      "outputs": [
        {
          "output_type": "stream",
          "name": "stdout",
          "text": [
            "[epoch : 1, mini-batches :   100] loss: 0.107\n",
            "[epoch : 1, mini-batches :   200] loss: 0.070\n",
            "[epoch : 1, mini-batches :   300] loss: 0.045\n",
            "[epoch : 2, mini-batches :   100] loss: 0.041\n",
            "[epoch : 2, mini-batches :   200] loss: 0.037\n",
            "[epoch : 2, mini-batches :   300] loss: 0.032\n",
            "[epoch : 3, mini-batches :   100] loss: 0.025\n",
            "[epoch : 3, mini-batches :   200] loss: 0.026\n",
            "[epoch : 3, mini-batches :   300] loss: 0.023\n",
            "[epoch : 4, mini-batches :   100] loss: 0.027\n",
            "[epoch : 4, mini-batches :   200] loss: 0.021\n",
            "[epoch : 4, mini-batches :   300] loss: 0.021\n",
            "[epoch : 5, mini-batches :   100] loss: 0.020\n",
            "[epoch : 5, mini-batches :   200] loss: 0.020\n",
            "[epoch : 5, mini-batches :   300] loss: 0.019\n",
            "[epoch : 6, mini-batches :   100] loss: 0.021\n",
            "[epoch : 6, mini-batches :   200] loss: 0.020\n",
            "[epoch : 6, mini-batches :   300] loss: 0.017\n",
            "[epoch : 7, mini-batches :   100] loss: 0.022\n",
            "[epoch : 7, mini-batches :   200] loss: 0.017\n",
            "[epoch : 7, mini-batches :   300] loss: 0.015\n",
            "[epoch : 8, mini-batches :   100] loss: 0.018\n",
            "[epoch : 8, mini-batches :   200] loss: 0.015\n",
            "[epoch : 8, mini-batches :   300] loss: 0.017\n",
            "[epoch : 9, mini-batches :   100] loss: 0.014\n",
            "[epoch : 9, mini-batches :   200] loss: 0.019\n",
            "[epoch : 9, mini-batches :   300] loss: 0.013\n",
            "[epoch : 10, mini-batches :   100] loss: 0.016\n",
            "[epoch : 10, mini-batches :   200] loss: 0.015\n",
            "[epoch : 10, mini-batches :   300] loss: 0.017\n",
            "Finished Training Model 2\n"
          ]
        }
      ]
    },
    {
      "cell_type": "code",
      "source": [
        "# Reference : (https://pytorch.org/tutorials/beginner/blitz/cifar10_tutorial.html#training-a-classifier)\n",
        "\n",
        "correct = 0\n",
        "total = 0\n",
        "# since we're not training, we don't need to calculate the gradients for our outputs\n",
        "with torch.no_grad():\n",
        "    for data in dataloaders['val']: # Modification to map dataloader\n",
        "        images, labels = data\n",
        "        # calculate outputs by running images through the network\n",
        "        outputs = model2net(images)\n",
        "        # the class with the highest energy is what we choose as prediction\n",
        "        _, predicted = torch.max(outputs.data, 1)\n",
        "        total += labels.size(0)\n",
        "        correct += (predicted == labels).sum().item()\n",
        "third_model_accuracy = 100 * correct // total\n",
        "print(\"Accuracy of the Third Network on the validation images:\", third_model_accuracy ,'%')"
      ],
      "metadata": {
        "colab": {
          "base_uri": "https://localhost:8080/"
        },
        "id": "ceGeE260-5W4",
        "outputId": "2433255f-b67f-47e5-e410-71c9464ccaa8"
      },
      "execution_count": null,
      "outputs": [
        {
          "output_type": "stream",
          "name": "stdout",
          "text": [
            "Accuracy of the Third Network on the validation images: 86 %\n"
          ]
        }
      ]
    },
    {
      "cell_type": "code",
      "source": [
        "# Reference : (https://pytorch.org/tutorials/beginner/blitz/cifar10_tutorial.html#training-a-classifier)\n",
        "\n",
        "# prepare to count predictions for each class\n",
        "correct_pred = {classname: 0 for classname in classes}\n",
        "total_pred = {classname: 0 for classname in classes}\n",
        "\n",
        "# again no gradients needed\n",
        "with torch.no_grad():\n",
        "    for data in dataloaders['val']: # Modification to map dataloader\n",
        "        images, labels = data\n",
        "        outputs = model2net(images)\n",
        "        _, predictions = torch.max(outputs, 1)\n",
        "        # collect the correct predictions for each class\n",
        "        for label, prediction in zip(labels, predictions):\n",
        "            if label == prediction:\n",
        "                correct_pred[classes[label]] += 1\n",
        "            total_pred[classes[label]] += 1\n",
        "\n",
        "\n",
        "# print accuracy for each class\n",
        "for classname, correct_count in correct_pred.items():\n",
        "    class_accuracy = 100 * float(correct_count) / total_pred[classname]\n",
        "    print(f'Accuracy for class: {classname:5s} is {class_accuracy:.1f} %')\n",
        "\n",
        "    # Plot graph for each class Airplane, Motorbikes, Schooner\n",
        "    plt.title(\"Model 2 Perdiction Accuracy for each class\")\n",
        "    plt.xlabel(\"Class\")\n",
        "    plt.ylabel(\"Accuracy\")\n",
        "    plt.bar(classname, class_accuracy)"
      ],
      "metadata": {
        "colab": {
          "base_uri": "https://localhost:8080/",
          "height": 349
        },
        "id": "eYMIy-uY_GCU",
        "outputId": "2dd3eee2-dfec-40bb-97a4-6a9ac1c2b033"
      },
      "execution_count": null,
      "outputs": [
        {
          "output_type": "stream",
          "name": "stdout",
          "text": [
            "Accuracy for class: Motorbikes is 92.3 %\n",
            "Accuracy for class: airplanes is 89.7 %\n",
            "Accuracy for class: schooner is 0.0 %\n"
          ]
        },
        {
          "output_type": "display_data",
          "data": {
            "text/plain": [
              "<Figure size 432x288 with 1 Axes>"
            ],
            "image/png": "[encoded data removed]"
          },
          "metadata": {
            "needs_background": "light"
          }
        }
      ]
    },
    {
      "cell_type": "code",
      "source": [
        "# Reference : (https://pytorch.org/tutorials/beginner/blitz/cifar10_tutorial.html#training-a-classifier)\n",
        "import torch.nn as nn\n",
        "import torch.nn.functional as F\n",
        "\n",
        "\n",
        "class Model3Net(nn.Module):\n",
        "    def __init__(self):\n",
        "        super().__init__()\n",
        "        self.conv1 = nn.Conv2d(3, 6, 6) # Modification to Hyper-Parameters \n",
        "        self.pool = nn.AdaptiveAvgPool2d(6) # Modification \n",
        "        self.conv2 = nn.Conv2d(6, 12, 6) # Modification to Hyper-Parameters\n",
        "        self.conv3 = nn.Conv2d(12, 24, 6) # Modification to Hyper-Parameters\n",
        "        self.conv4 = nn.Conv2d(24, 48, 6) # Addition of layer\n",
        "        self.conv5 = nn.Conv2d(48, 96, 6) # Addition of layer\n",
        "        self.conv6 = nn.Conv2d(96, 192, 6) # Addition of layer\n",
        "        self.conv7 = nn.Conv2d(192, 384, 6) # Addition of layer\n",
        "        self.conv8 = nn.Conv2d(384, 768, 6) # Addition of layer\n",
        "        self.fc1 = nn.Linear(768 * 6 * 6, 512) # Modification to Hyper-Parameters\n",
        "        self.fc2 = nn.Linear(512, 256) # Modification to Hyper-Parameters\n",
        "        self.fc3 = nn.Linear(256, 128) # Modification to Hyper-Parameters\n",
        "        self.fc4 = nn.Linear(128, 10) # Addition of layer\n",
        "\n",
        "    def forward(self, x):\n",
        "        x = self.pool(F.relu(self.conv1(x)))\n",
        "        x = self.pool(F.relu(self.conv2(x)))\n",
        "        x = self.pool(F.relu(self.conv3(x)))\n",
        "        x = self.pool(F.relu(self.conv4(x)))\n",
        "        x = self.pool(F.relu(self.conv5(x)))\n",
        "        x = self.pool(F.relu(self.conv6(x)))\n",
        "        x = self.pool(F.relu(self.conv7(x)))\n",
        "        x = self.pool(F.relu(self.conv8(x)))\n",
        "        x = torch.flatten(x, 1) # flatten all dimensions except batch\n",
        "        x = F.relu(self.fc1(x))\n",
        "        x = F.relu(self.fc2(x))\n",
        "        x = F.relu(self.fc3(x)) # Modification \n",
        "        x = self.fc4(x)\n",
        "        return x\n",
        "\n",
        "\n",
        "model3net = Model3Net()"
      ],
      "metadata": {
        "id": "5NTWKoBa_53A"
      },
      "execution_count": null,
      "outputs": []
    },
    {
      "cell_type": "code",
      "source": [
        "# Reference : (https://pytorch.org/tutorials/beginner/blitz/cifar10_tutorial.html#training-a-classifier)\n",
        "\n",
        "import torch.optim as optim\n",
        "\n",
        "criterion = nn.CrossEntropyLoss()\n",
        "optimizer = optim.SGD(model3net.parameters(), lr=0.001, momentum=0.9)\n",
        "\n",
        "for epoch in range(10):  # let's run for 5 epochs \n",
        "\n",
        "    running_loss = 0.0\n",
        "    for i, data in enumerate(dataloaders['train'], 0): # Modification to map dataloader\n",
        "        # get the inputs; data is a list of [inputs, labels]\n",
        "        inputs, labels = data\n",
        "\n",
        "        # zero the parameter gradients\n",
        "        optimizer.zero_grad()\n",
        "\n",
        "        # forward + backward + optimize\n",
        "        outputs = model3net(inputs) # Modification to map to Model 1 \n",
        "        loss = criterion(outputs, labels)\n",
        "        loss.backward()\n",
        "        optimizer.step()\n",
        "\n",
        "        # print statistics\n",
        "        running_loss += loss.item()\n",
        "        if i % 100 == 99:    # print every 100 mini-batches\n",
        "            print(f'[epoch : {epoch + 1}, mini-batches : {i + 1:5d}] loss: {running_loss / 2000:.3f}')\n",
        "            running_loss = 0.0\n",
        "\n",
        "print('Finished Training Model 3')"
      ],
      "metadata": {
        "colab": {
          "base_uri": "https://localhost:8080/"
        },
        "id": "mztduIOr_-Fl",
        "outputId": "94ccc9b5-a589-4982-ba90-57b96a20867b"
      },
      "execution_count": null,
      "outputs": [
        {
          "output_type": "stream",
          "name": "stdout",
          "text": [
            "[epoch : 1, mini-batches :   100] loss: 0.107\n",
            "[epoch : 1, mini-batches :   200] loss: 0.088\n",
            "[epoch : 1, mini-batches :   300] loss: 0.069\n",
            "[epoch : 2, mini-batches :   100] loss: 0.052\n",
            "[epoch : 2, mini-batches :   200] loss: 0.049\n",
            "[epoch : 2, mini-batches :   300] loss: 0.043\n",
            "[epoch : 3, mini-batches :   100] loss: 0.046\n",
            "[epoch : 3, mini-batches :   200] loss: 0.040\n",
            "[epoch : 3, mini-batches :   300] loss: 0.034\n",
            "[epoch : 4, mini-batches :   100] loss: 0.042\n",
            "[epoch : 4, mini-batches :   200] loss: 0.035\n",
            "[epoch : 4, mini-batches :   300] loss: 0.034\n",
            "[epoch : 5, mini-batches :   100] loss: 0.025\n",
            "[epoch : 5, mini-batches :   200] loss: 0.024\n",
            "[epoch : 5, mini-batches :   300] loss: 0.030\n",
            "[epoch : 6, mini-batches :   100] loss: 0.024\n",
            "[epoch : 6, mini-batches :   200] loss: 0.019\n",
            "[epoch : 6, mini-batches :   300] loss: 0.022\n",
            "[epoch : 7, mini-batches :   100] loss: 0.023\n",
            "[epoch : 7, mini-batches :   200] loss: 0.020\n",
            "[epoch : 7, mini-batches :   300] loss: 0.021\n",
            "[epoch : 8, mini-batches :   100] loss: 0.025\n",
            "[epoch : 8, mini-batches :   200] loss: 0.021\n",
            "[epoch : 8, mini-batches :   300] loss: 0.017\n",
            "[epoch : 9, mini-batches :   100] loss: 0.020\n",
            "[epoch : 9, mini-batches :   200] loss: 0.017\n",
            "[epoch : 9, mini-batches :   300] loss: 0.020\n",
            "[epoch : 10, mini-batches :   100] loss: 0.021\n",
            "[epoch : 10, mini-batches :   200] loss: 0.021\n",
            "[epoch : 10, mini-batches :   300] loss: 0.020\n",
            "Finished Training Model 3\n"
          ]
        }
      ]
    },
    {
      "cell_type": "code",
      "source": [
        "# Reference : (https://pytorch.org/tutorials/beginner/blitz/cifar10_tutorial.html#training-a-classifier)\n",
        "correct = 0\n",
        "total = 0\n",
        "# since we're not training, we don't need to calculate the gradients for our outputs\n",
        "with torch.no_grad():\n",
        "    for data in dataloaders['val']: # Modification to map dataloader\n",
        "        images, labels = data\n",
        "        # calculate outputs by running images through the network\n",
        "        outputs = model3net(images)\n",
        "        # the class with the highest energy is what we choose as prediction\n",
        "        _, predicted = torch.max(outputs.data, 1)\n",
        "        total += labels.size(0)\n",
        "        correct += (predicted == labels).sum().item()\n",
        "fourth_model_accuracy = 100 * correct // total\n",
        "print(\"Accuracy of the Fourth Network on the validation images:\", fourth_model_accuracy ,'%')"
      ],
      "metadata": {
        "colab": {
          "base_uri": "https://localhost:8080/"
        },
        "id": "CED1UBKgABop",
        "outputId": "ea60f9e8-f718-45a6-d547-8eee80227fae"
      },
      "execution_count": null,
      "outputs": [
        {
          "output_type": "stream",
          "name": "stdout",
          "text": [
            "Accuracy of the Fourth Network on the validation images: 47 %\n"
          ]
        }
      ]
    },
    {
      "cell_type": "code",
      "source": [
        "# Reference : (https://pytorch.org/tutorials/beginner/blitz/cifar10_tutorial.html#training-a-classifier)\n",
        "\n",
        "# prepare to count predictions for each class\n",
        "correct_pred = {classname: 0 for classname in classes}\n",
        "total_pred = {classname: 0 for classname in classes}\n",
        "\n",
        "# again no gradients needed\n",
        "with torch.no_grad():\n",
        "    for data in dataloaders['val']: # Modification to map dataloader\n",
        "        images, labels = data\n",
        "        outputs = model3net(images)\n",
        "        _, predictions = torch.max(outputs, 1)\n",
        "        # collect the correct predictions for each class\n",
        "        for label, prediction in zip(labels, predictions):\n",
        "            if label == prediction:\n",
        "                correct_pred[classes[label]] += 1\n",
        "            total_pred[classes[label]] += 1\n",
        "\n",
        "\n",
        "# print accuracy for each class\n",
        "for classname, correct_count in correct_pred.items():\n",
        "    class_accuracy = 100 * float(correct_count) / total_pred[classname]\n",
        "    print(f'Accuracy for class: {classname:5s} is {class_accuracy:.1f} %')\n",
        "\n",
        "    # Plot graph for each class Airplane, Motorbikes, Schooner\n",
        "    plt.title(\"Model 3 Perdiction Accuracy for each class\")\n",
        "    plt.xlabel(\"Class\")\n",
        "    plt.ylabel(\"Accuracy\")\n",
        "    plt.bar(classname, class_accuracy)"
      ],
      "metadata": {
        "colab": {
          "base_uri": "https://localhost:8080/",
          "height": 349
        },
        "id": "cy56GVHcAElv",
        "outputId": "b27521c2-c7db-473c-9874-5404d12afb7d"
      },
      "execution_count": null,
      "outputs": [
        {
          "output_type": "stream",
          "name": "stdout",
          "text": [
            "Accuracy for class: Motorbikes is 0.0 %\n",
            "Accuracy for class: airplanes is 100.0 %\n",
            "Accuracy for class: schooner is 0.0 %\n"
          ]
        },
        {
          "output_type": "display_data",
          "data": {
            "text/plain": [
              "<Figure size 432x288 with 1 Axes>"
            ],
            "image/png": "[encoded data removed]"
          },
          "metadata": {
            "needs_background": "light"
          }
        }
      ]
    },
    {
      "cell_type": "code",
      "source": [
        "# Plot graph for each class Airplane, Motorbikes, Schooner\n",
        "plt.title(\"Various Model Perdiction Accuracy\")\n",
        "plt.xlabel(\"Model\")\n",
        "plt.ylabel(\"Accuracy\")\n",
        "x = [\"Base Model\", \"Model 1\", \"Model 2\", \"Model 3\"]\n",
        "y = [first_model_accuracy,second_model_accuracy,third_model_accuracy,fourth_model_accuracy]\n",
        "plt.bar(x, y)"
      ],
      "metadata": {
        "colab": {
          "base_uri": "https://localhost:8080/",
          "height": 313
        },
        "id": "mWhcsIOdSsFO",
        "outputId": "92ae7a9f-33dc-4827-86db-6cc7cac91ba4"
      },
      "execution_count": null,
      "outputs": [
        {
          "output_type": "execute_result",
          "data": {
            "text/plain": [
              "<BarContainer object of 4 artists>"
            ]
          },
          "metadata": {},
          "execution_count": 40
        },
        {
          "output_type": "display_data",
          "data": {
            "text/plain": [
              "<Figure size 432x288 with 1 Axes>"
            ],
            "image/png": "[encoded data removed]"
          },
          "metadata": {
            "needs_background": "light"
          }
        }
      ]
    },
    {
      "cell_type": "code",
      "source": [
        "#Reference : (https://discuss.pytorch.org/t/how-to-split-dataset-into-test-and-validation-sets/33987/4)\n",
        "def train_val_dataset(dataset, val_split=0.20):\n",
        "    train_idx, val_idx = train_test_split(list(range(len(dataset))), test_size=val_split)\n",
        "    datasets = {}\n",
        "    datasets['train'] = Subset(dataset, train_idx)\n",
        "    datasets['val'] = Subset(dataset, val_idx)\n",
        "    return datasets\n",
        "\n",
        "dataset = ImageFolder(img_data_dir, transform=Compose([Resize((100,100)),ToTensor()]))\n",
        "print(\"Total Number of Images\",len(dataset))\n",
        "datasets = train_val_dataset(dataset)\n",
        "print(\"Total Number of Images in Training Dataset \",len(datasets['train']))\n",
        "print(\"Total Number of Images in Validation Dataset \",len(datasets['val']))\n",
        "print(\"Dataset Information \",datasets['train'].dataset)\n",
        "\n",
        "dataloaders = {x:DataLoader(datasets[x],10, shuffle=True) for x in ['train','val']}\n",
        "x,y = next(iter(dataloaders['train']))\n",
        "print(x.shape, y.shape)"
      ],
      "metadata": {
        "colab": {
          "base_uri": "https://localhost:8080/"
        },
        "id": "iPVaC0HF74Kn",
        "outputId": "3aa85c1a-4036-483f-a38a-e8d129a6fa8a"
      },
      "execution_count": null,
      "outputs": [
        {
          "output_type": "stream",
          "name": "stdout",
          "text": [
            "Total Number of Images 1661\n",
            "Total Number of Images in Training Dataset  1328\n",
            "Total Number of Images in Validation Dataset  333\n",
            "Dataset Information  Dataset ImageFolder\n",
            "    Number of datapoints: 1661\n",
            "    Root location: caltech101_classification\n",
            "    StandardTransform\n",
            "Transform: Compose(\n",
            "               Resize(size=(100, 100), interpolation=bilinear, max_size=None, antialias=None)\n",
            "               ToTensor()\n",
            "           )\n",
            "torch.Size([10, 3, 100, 100]) torch.Size([10])\n"
          ]
        }
      ]
    },
    {
      "cell_type": "code",
      "source": [
        "# Reference : (https://pytorch.org/tutorials/beginner/blitz/cifar10_tutorial.html#training-a-classifier)\n",
        "batch_size = 10\n",
        "import matplotlib.pyplot as plt\n",
        "import numpy as np\n",
        "\n",
        "# functions to show an image\n",
        "\n",
        "\n",
        "def imshow(img):\n",
        "    img = img / 2 + 0.5     # unnormalize\n",
        "    npimg = img.numpy()\n",
        "    plt.imshow(np.transpose(npimg, (1, 2, 0)))\n",
        "    plt.show()\n",
        "\n",
        "\n",
        "# get some random training images\n",
        "dataiter = iter(dataloaders['train']) # Modification to map dataloader\n",
        "images, labels = next(dataiter)\n",
        "\n",
        "# show images\n",
        "imshow(torchvision.utils.make_grid(images))\n",
        "# print labels\n",
        "print(' '.join(f'{classes[labels[j]]:5s}' for j in range(batch_size)))"
      ],
      "metadata": {
        "colab": {
          "base_uri": "https://localhost:8080/",
          "height": 154
        },
        "id": "oRXiTHJ673mL",
        "outputId": "3e43a04d-b4d7-4054-9595-3c51b192eecf"
      },
      "execution_count": null,
      "outputs": [
        {
          "output_type": "display_data",
          "data": {
            "text/plain": [
              "<Figure size 432x288 with 1 Axes>"
            ],
            "image/png": "[encoded data removed]"
          },
          "metadata": {
            "needs_background": "light"
          }
        },
        {
          "output_type": "stream",
          "name": "stdout",
          "text": [
            "Motorbikes Motorbikes Motorbikes airplanes airplanes airplanes Motorbikes airplanes Motorbikes airplanes\n"
          ]
        }
      ]
    },
    {
      "cell_type": "code",
      "source": [
        "# Reference : (https://pytorch.org/tutorials/beginner/blitz/cifar10_tutorial.html#training-a-classifier)\n",
        "import torch.nn as nn\n",
        "import torch.nn.functional as F\n",
        "\n",
        "\n",
        "class BaseNet(nn.Module):\n",
        "    def __init__(self):\n",
        "        super().__init__()\n",
        "        self.conv1 = nn.Conv2d(3, 6, 3)\n",
        "        self.pool = nn.AdaptiveAvgPool2d(3)\n",
        "        self.conv2 = nn.Conv2d(6, 12, 3)\n",
        "        self.fc1 = nn.Linear(12 * 3 * 3, 240)\n",
        "        self.fc2 = nn.Linear(240, 120)\n",
        "        self.fc3 = nn.Linear(120, 10)\n",
        "\n",
        "    def forward(self, x):\n",
        "        x = self.pool(F.relu(self.conv1(x)))\n",
        "        x = self.pool(F.relu(self.conv2(x)))\n",
        "        x = torch.flatten(x, 1) # flatten all dimensions except batch\n",
        "        x = F.relu(self.fc1(x))\n",
        "        x = F.relu(self.fc2(x))\n",
        "        x = self.fc3(x)\n",
        "        return x\n",
        "\n",
        "\n",
        "net = BaseNet()\n",
        "# Reference : (https://pytorch.org/tutorials/beginner/blitz/cifar10_tutorial.html#training-a-classifier)\n",
        "\n",
        "import torch.optim as optim\n",
        "\n",
        "criterion = nn.CrossEntropyLoss()\n",
        "optimizer = optim.SGD(net.parameters(), lr=0.001, momentum=0.9)\n",
        "# Reference : (https://pytorch.org/tutorials/beginner/blitz/cifar10_tutorial.html#training-a-classifier)\n",
        "\n",
        "for epoch in range(2):  # loop over the dataset multiple times\n",
        "\n",
        "    running_loss = 0.0\n",
        "    for i, data in enumerate(dataloaders['train'], 0): # Modification to map dataloader\n",
        "        # get the inputs; data is a list of [inputs, labels]\n",
        "        inputs, labels = data\n",
        "\n",
        "        # zero the parameter gradients\n",
        "        optimizer.zero_grad()\n",
        "\n",
        "        # forward + backward + optimize\n",
        "        outputs = net(inputs)\n",
        "        loss = criterion(outputs, labels)\n",
        "        loss.backward()\n",
        "        optimizer.step()\n",
        "\n",
        "        # print statistics\n",
        "        running_loss += loss.item()\n",
        "        if i % 100 == 99:    # print every 2000 mini-batches\n",
        "            print(f'[epoch : {epoch + 1}, mini-batches : {i + 1:5d}] loss: {running_loss / 2000:.3f}')\n",
        "            running_loss = 0.0\n",
        "\n",
        "print('Finished Training Base Model')\n",
        "# Reference : (https://pytorch.org/tutorials/beginner/blitz/cifar10_tutorial.html#training-a-classifier)\n",
        "PATH = './image_classifier.pth'\n",
        "torch.save(net.state_dict(), PATH)\n",
        "# Reference : (https://pytorch.org/tutorials/beginner/blitz/cifar10_tutorial.html#training-a-classifier)\n",
        "\n",
        "dataiter = iter(dataloaders['train']) # Modification to map dataloader\n",
        "images, labels = next(dataiter)\n",
        "\n",
        "# print images\n",
        "imshow(torchvision.utils.make_grid(images))\n",
        "print('GroundTruth: ', ' '.join(f'{classes[labels[j]]:5s}' for j in range(10)))\n",
        "# Reference : (https://pytorch.org/tutorials/beginner/blitz/cifar10_tutorial.html#training-a-classifier)\n",
        "# Reference : (https://pytorch.org/tutorials/beginner/blitz/cifar10_tutorial.html#training-a-classifier)\n",
        "net = BaseNet()\n",
        "net.load_state_dict(torch.load(PATH))\n",
        "# Reference : (https://pytorch.org/tutorials/beginner/blitz/cifar10_tutorial.html#training-a-classifier)\n",
        "\n",
        "outputs = net(images)\n",
        "# Reference : (https://pytorch.org/tutorials/beginner/blitz/cifar10_tutorial.html#training-a-classifier)\n",
        "_, predicted = torch.max(outputs, 1)\n",
        "\n",
        "print('Predicted: ', ' '.join(f'{classes[predicted[j]]:5s}'\n",
        "                              for j in range(10)))"
      ],
      "metadata": {
        "colab": {
          "base_uri": "https://localhost:8080/",
          "height": 225
        },
        "id": "t7ec254W9ZnE",
        "outputId": "7102f34d-d5a8-4a60-f33d-72b90d9c8476"
      },
      "execution_count": null,
      "outputs": [
        {
          "output_type": "stream",
          "name": "stdout",
          "text": [
            "[epoch : 1, mini-batches :   100] loss: 0.106\n",
            "[epoch : 2, mini-batches :   100] loss: 0.065\n",
            "Finished Training Base Model\n"
          ]
        },
        {
          "output_type": "display_data",
          "data": {
            "text/plain": [
              "<Figure size 432x288 with 1 Axes>"
            ],
            "image/png": "[encoded data removed]"
          },
          "metadata": {
            "needs_background": "light"
          }
        },
        {
          "output_type": "stream",
          "name": "stdout",
          "text": [
            "GroundTruth:  Motorbikes airplanes airplanes airplanes Motorbikes airplanes Motorbikes airplanes Motorbikes schooner\n",
            "Predicted:  airplanes airplanes airplanes airplanes airplanes airplanes airplanes airplanes airplanes airplanes\n"
          ]
        }
      ]
    },
    {
      "cell_type": "code",
      "source": [
        "# Reference : (https://pytorch.org/tutorials/beginner/blitz/cifar10_tutorial.html#training-a-classifier)\n",
        "correct = 0\n",
        "total = 0\n",
        "# since we're not training, we don't need to calculate the gradients for our outputs\n",
        "with torch.no_grad():\n",
        "    for data in dataloaders['val']: # Modification to map dataloader\n",
        "        images, labels = data\n",
        "        # calculate outputs by running images through the network\n",
        "        outputs = net(images)\n",
        "        # the class with the highest energy is what we choose as prediction\n",
        "        _, predicted = torch.max(outputs.data, 1)\n",
        "        total += labels.size(0)\n",
        "        correct += (predicted == labels).sum().item()\n",
        "first_model_accuracy = 100 * correct // total # Modification\n",
        "print(\"Accuracy of the First Network on the validation images:\", first_model_accuracy ,'%') # Modification\n",
        "# Reference : (https://pytorch.org/tutorials/beginner/blitz/cifar10_tutorial.html#training-a-classifier)\n",
        "\n",
        "# prepare to count predictions for each class\n",
        "correct_pred = {classname: 0 for classname in classes}\n",
        "total_pred = {classname: 0 for classname in classes}\n",
        "\n",
        "# again no gradients needed\n",
        "with torch.no_grad():\n",
        "    for data in dataloaders['val']: # Modification to map dataloader\n",
        "        images, labels = data\n",
        "        outputs = net(images)\n",
        "        _, predictions = torch.max(outputs, 1)\n",
        "        # collect the correct predictions for each class\n",
        "        for label, prediction in zip(labels, predictions):\n",
        "            if label == prediction:\n",
        "                correct_pred[classes[label]] += 1\n",
        "            total_pred[classes[label]] += 1\n",
        "\n",
        "\n",
        "# print accuracy for each class\n",
        "for classname, correct_count in correct_pred.items():\n",
        "    class_accuracy = 100 * float(correct_count) / total_pred[classname] # Modification to map dataloader\n",
        "    print(f'Accuracy for class: {classname:5s} is {class_accuracy:.1f} %')\n",
        "\n",
        "    # Plot graph for each class Airplane, Motorbikes, Schooner\n",
        "    plt.title(\"Base Model Perdiction Accuracy for each class\")\n",
        "    plt.xlabel(\"Class\")\n",
        "    plt.ylabel(\"Accuracy\")\n",
        "    plt.bar(classname, class_accuracy)\n"
      ],
      "metadata": {
        "colab": {
          "base_uri": "https://localhost:8080/",
          "height": 366
        },
        "id": "w_bOWvLH9yee",
        "outputId": "070a070a-bba9-4d05-d87e-e6d1df35c3ba"
      },
      "execution_count": null,
      "outputs": [
        {
          "output_type": "stream",
          "name": "stdout",
          "text": [
            "Accuracy of the First Network on the validation images: 48 %\n",
            "Accuracy for class: Motorbikes is 0.0 %\n",
            "Accuracy for class: airplanes is 100.0 %\n",
            "Accuracy for class: schooner is 0.0 %\n"
          ]
        },
        {
          "output_type": "display_data",
          "data": {
            "text/plain": [
              "<Figure size 432x288 with 1 Axes>"
            ],
            "image/png": "[encoded data removed]"
          },
          "metadata": {
            "needs_background": "light"
          }
        }
      ]
    },
    {
      "cell_type": "code",
      "source": [
        "# Reference : (https://pytorch.org/tutorials/beginner/blitz/cifar10_tutorial.html#training-a-classifier)\n",
        "import torch.nn as nn\n",
        "import torch.nn.functional as F\n",
        "\n",
        "\n",
        "class Model1Net(nn.Module):\n",
        "    def __init__(self):\n",
        "        super().__init__()\n",
        "        self.conv1 = nn.Conv2d(3, 16, 6) # Modification to Hyper-Parameters \n",
        "        self.pool = nn.AdaptiveAvgPool2d(6)\n",
        "        self.conv2 = nn.Conv2d(16, 32, 6) # Modification to Hyper-Parameters\n",
        "        self.fc1 = nn.Linear(32 * 6 * 6, 120) # Modification to Hyper-Parameters\n",
        "        self.fc2 = nn.Linear(120, 60) # Modification to Hyper-Parameters\n",
        "        self.fc3 = nn.Linear(60, 10) # Modification to Hyper-Parameters\n",
        "\n",
        "    def forward(self, x):\n",
        "        x = self.pool(F.relu(self.conv1(x)))\n",
        "        x = self.pool(F.relu(self.conv2(x)))\n",
        "        x = torch.flatten(x, 1) # flatten all dimensions except batch\n",
        "        x = F.relu(self.fc1(x))\n",
        "        x = F.relu(self.fc2(x))\n",
        "        x = self.fc3(x)\n",
        "        return x\n",
        "\n",
        "\n",
        "model1net = Model1Net()\n",
        "# Reference : (https://pytorch.org/tutorials/beginner/blitz/cifar10_tutorial.html#training-a-classifier)\n",
        "\n",
        "import torch.optim as optim\n",
        "\n",
        "criterion = nn.CrossEntropyLoss()\n",
        "optimizer = optim.SGD(model1net.parameters(), lr=0.001, momentum=0.9)\n",
        "# Reference : (https://pytorch.org/tutorials/beginner/blitz/cifar10_tutorial.html#training-a-classifier)\n",
        "for epoch in range(5):  # let's run for 5 epochs \n",
        "\n",
        "    running_loss = 0.0\n",
        "    for i, data in enumerate(dataloaders['train'], 0): # Modification to map dataloader\n",
        "        # get the inputs; data is a list of [inputs, labels]\n",
        "        inputs, labels = data\n",
        "\n",
        "        # zero the parameter gradients\n",
        "        optimizer.zero_grad()\n",
        "\n",
        "        # forward + backward + optimize\n",
        "        outputs = model1net(inputs) # Modification to map to Model 1 \n",
        "        loss = criterion(outputs, labels)\n",
        "        loss.backward()\n",
        "        optimizer.step()\n",
        "\n",
        "        # print statistics\n",
        "        running_loss += loss.item()\n",
        "        if i % 100 == 99:    # print every 100 mini-batches\n",
        "            print(f'[epoch : {epoch + 1}, mini-batches : {i + 1:5d}] loss: {running_loss / 2000:.3f}')\n",
        "            running_loss = 0.0\n",
        "\n",
        "print('Finished Training Model 1')"
      ],
      "metadata": {
        "colab": {
          "base_uri": "https://localhost:8080/"
        },
        "id": "hxiaD1xU9yUk",
        "outputId": "aa6753b7-9838-4178-e54e-e298c99916e4"
      },
      "execution_count": null,
      "outputs": [
        {
          "output_type": "stream",
          "name": "stdout",
          "text": [
            "[epoch : 1, mini-batches :   100] loss: 0.100\n",
            "[epoch : 2, mini-batches :   100] loss: 0.041\n",
            "[epoch : 3, mini-batches :   100] loss: 0.026\n",
            "[epoch : 4, mini-batches :   100] loss: 0.021\n",
            "[epoch : 5, mini-batches :   100] loss: 0.021\n",
            "Finished Training Model 1\n"
          ]
        }
      ]
    },
    {
      "cell_type": "code",
      "source": [
        "# Reference : (https://pytorch.org/tutorials/beginner/blitz/cifar10_tutorial.html#training-a-classifier)\n",
        "\n",
        "correct = 0\n",
        "total = 0\n",
        "# since we're not training, we don't need to calculate the gradients for our outputs\n",
        "with torch.no_grad():\n",
        "    for data in dataloaders['val']: # Modification to map dataloader\n",
        "        images, labels = data\n",
        "        # calculate outputs by running images through the network\n",
        "        outputs = model1net(images)\n",
        "        # the class with the highest energy is what we choose as prediction\n",
        "        _, predicted = torch.max(outputs.data, 1)\n",
        "        total += labels.size(0)\n",
        "        correct += (predicted == labels).sum().item()\n",
        "second_model_accuracy = 100 * correct // total\n",
        "print(\"Accuracy of the Second Network on the validation images:\", second_model_accuracy ,'%')\n",
        "# Reference : (https://pytorch.org/tutorials/beginner/blitz/cifar10_tutorial.html#training-a-classifier)\n",
        "\n",
        "# prepare to count predictions for each class\n",
        "correct_pred = {classname: 0 for classname in classes}\n",
        "total_pred = {classname: 0 for classname in classes}\n",
        "\n",
        "# again no gradients needed\n",
        "with torch.no_grad():\n",
        "    for data in dataloaders['val']: # Modification to map dataloader\n",
        "        images, labels = data\n",
        "        outputs = model1net(images)\n",
        "        _, predictions = torch.max(outputs, 1)\n",
        "        # collect the correct predictions for each class\n",
        "        for label, prediction in zip(labels, predictions):\n",
        "            if label == prediction:\n",
        "                correct_pred[classes[label]] += 1\n",
        "            total_pred[classes[label]] += 1\n",
        "\n",
        "\n",
        "# print accuracy for each class\n",
        "for classname, correct_count in correct_pred.items():\n",
        "    class_accuracy = 100 * float(correct_count) / total_pred[classname]\n",
        "    print(f'Accuracy for class: {classname:5s} is {class_accuracy:.1f} %')\n",
        "\n",
        "    # Plot graph for each class Airplane, Motorbikes, Schooner\n",
        "    plt.title(\"Model 1 Perdiction Accuracy for each class\")\n",
        "    plt.xlabel(\"Class\")\n",
        "    plt.ylabel(\"Accuracy\")\n",
        "    plt.bar(classname, class_accuracy)"
      ],
      "metadata": {
        "colab": {
          "base_uri": "https://localhost:8080/",
          "height": 366
        },
        "id": "v3b6EoxC-40R",
        "outputId": "0fa67c49-5634-4d90-dc5a-f6fd7148bfe0"
      },
      "execution_count": null,
      "outputs": [
        {
          "output_type": "stream",
          "name": "stdout",
          "text": [
            "Accuracy of the Second Network on the validation images: 88 %\n",
            "Accuracy for class: Motorbikes is 82.8 %\n",
            "Accuracy for class: airplanes is 98.1 %\n",
            "Accuracy for class: schooner is 0.0 %\n"
          ]
        },
        {
          "output_type": "display_data",
          "data": {
            "text/plain": [
              "<Figure size 432x288 with 1 Axes>"
            ],
            "image/png": "[encoded data removed]"
          },
          "metadata": {
            "needs_background": "light"
          }
        }
      ]
    },
    {
      "cell_type": "code",
      "source": [
        "# Reference : (https://pytorch.org/tutorials/beginner/blitz/cifar10_tutorial.html#training-a-classifier)\n",
        "import torch.nn as nn\n",
        "import torch.nn.functional as F\n",
        "\n",
        "\n",
        "class Model2Net(nn.Module):\n",
        "    def __init__(self):\n",
        "        super().__init__()\n",
        "        self.conv1 = nn.Conv2d(3, 6, 6) # Modification to Hyper-Parameters \n",
        "        self.pool = nn.AdaptiveAvgPool2d(6)\n",
        "        self.conv2 = nn.Conv2d(6, 12, 6) # Modification to Hyper-Parameters\n",
        "        self.conv3 = nn.Conv2d(12, 24, 6) # Modification to Hyper-Parameters\n",
        "        self.conv4 = nn.Conv2d(24, 48, 6) # Modification to Hyper-Parameters\n",
        "        self.conv5 = nn.Conv2d(48, 96, 6) # Modification to Hyper-Parameters\n",
        "        self.fc1 = nn.Linear(96 * 6 * 6, 160) # Modification to Hyper-Parameters\n",
        "        self.fc2 = nn.Linear(160, 60) # Modification to Hyper-Parameters\n",
        "        self.fc3 = nn.Linear(60, 10) # Modification to Hyper-Parameters\n",
        "\n",
        "    def forward(self, x):\n",
        "        x = self.pool(F.relu(self.conv1(x)))\n",
        "        x = self.pool(F.relu(self.conv2(x)))\n",
        "        x = self.pool(F.relu(self.conv3(x)))\n",
        "        x = self.pool(F.relu(self.conv4(x)))\n",
        "        x = self.pool(F.relu(self.conv5(x)))\n",
        "        x = torch.flatten(x, 1) # flatten all dimensions except batch\n",
        "        x = F.relu(self.fc1(x))\n",
        "        x = F.relu(self.fc2(x))\n",
        "        x = self.fc3(x)\n",
        "        return x\n",
        "\n",
        "\n",
        "model2net = Model2Net()\n",
        "# Reference : (https://pytorch.org/tutorials/beginner/blitz/cifar10_tutorial.html#training-a-classifier)\n",
        "\n",
        "import torch.optim as optim\n",
        "\n",
        "criterion = nn.CrossEntropyLoss()\n",
        "optimizer = optim.SGD(model2net.parameters(), lr=0.001, momentum=0.9)\n",
        "\n",
        "for epoch in range(10):  # let's run for 5 epochs \n",
        "\n",
        "    running_loss = 0.0\n",
        "    for i, data in enumerate(dataloaders['train'], 0): # Modification to map dataloader\n",
        "        # get the inputs; data is a list of [inputs, labels]\n",
        "        inputs, labels = data\n",
        "\n",
        "        # zero the parameter gradients\n",
        "        optimizer.zero_grad()\n",
        "\n",
        "        # forward + backward + optimize\n",
        "        outputs = model2net(inputs) # Modification to map to Model 1 \n",
        "        loss = criterion(outputs, labels)\n",
        "        loss.backward()\n",
        "        optimizer.step()\n",
        "\n",
        "        # print statistics\n",
        "        running_loss += loss.item()\n",
        "        if i % 100 == 99:    # print every 100 mini-batches\n",
        "            print(f'[epoch : {epoch + 1}, mini-batches : {i + 1:5d}] loss: {running_loss / 2000:.3f}')\n",
        "            running_loss = 0.0\n",
        "\n",
        "print('Finished Training Model 2')"
      ],
      "metadata": {
        "colab": {
          "base_uri": "https://localhost:8080/"
        },
        "id": "_4GYovoG-4qW",
        "outputId": "5f9abe2b-9bf4-4b32-b097-7bfe6e58572a"
      },
      "execution_count": null,
      "outputs": [
        {
          "output_type": "stream",
          "name": "stdout",
          "text": [
            "[epoch : 1, mini-batches :   100] loss: 0.106\n",
            "[epoch : 2, mini-batches :   100] loss: 0.051\n",
            "[epoch : 3, mini-batches :   100] loss: 0.043\n",
            "[epoch : 4, mini-batches :   100] loss: 0.040\n",
            "[epoch : 5, mini-batches :   100] loss: 0.032\n",
            "[epoch : 6, mini-batches :   100] loss: 0.027\n",
            "[epoch : 7, mini-batches :   100] loss: 0.027\n",
            "[epoch : 8, mini-batches :   100] loss: 0.023\n",
            "[epoch : 9, mini-batches :   100] loss: 0.019\n",
            "[epoch : 10, mini-batches :   100] loss: 0.019\n",
            "Finished Training Model 2\n"
          ]
        }
      ]
    },
    {
      "cell_type": "code",
      "source": [
        "# Reference : (https://pytorch.org/tutorials/beginner/blitz/cifar10_tutorial.html#training-a-classifier)\n",
        "\n",
        "correct = 0\n",
        "total = 0\n",
        "# since we're not training, we don't need to calculate the gradients for our outputs\n",
        "with torch.no_grad():\n",
        "    for data in dataloaders['val']: # Modification to map dataloader\n",
        "        images, labels = data\n",
        "        # calculate outputs by running images through the network\n",
        "        outputs = model2net(images)\n",
        "        # the class with the highest energy is what we choose as prediction\n",
        "        _, predicted = torch.max(outputs.data, 1)\n",
        "        total += labels.size(0)\n",
        "        correct += (predicted == labels).sum().item()\n",
        "third_model_accuracy = 100 * correct // total\n",
        "print(\"Accuracy of the Third Network on the validation images:\", third_model_accuracy ,'%')\n",
        "# Reference : (https://pytorch.org/tutorials/beginner/blitz/cifar10_tutorial.html#training-a-classifier)\n",
        "\n",
        "# prepare to count predictions for each class\n",
        "correct_pred = {classname: 0 for classname in classes}\n",
        "total_pred = {classname: 0 for classname in classes}\n",
        "\n",
        "# again no gradients needed\n",
        "with torch.no_grad():\n",
        "    for data in dataloaders['val']: # Modification to map dataloader\n",
        "        images, labels = data\n",
        "        outputs = model2net(images)\n",
        "        _, predictions = torch.max(outputs, 1)\n",
        "        # collect the correct predictions for each class\n",
        "        for label, prediction in zip(labels, predictions):\n",
        "            if label == prediction:\n",
        "                correct_pred[classes[label]] += 1\n",
        "            total_pred[classes[label]] += 1\n",
        "\n",
        "\n",
        "# print accuracy for each class\n",
        "for classname, correct_count in correct_pred.items():\n",
        "    class_accuracy = 100 * float(correct_count) / total_pred[classname]\n",
        "    print(f'Accuracy for class: {classname:5s} is {class_accuracy:.1f} %')\n",
        "\n",
        "    # Plot graph for each class Airplane, Motorbikes, Schooner\n",
        "    plt.title(\"Model 2 Perdiction Accuracy for each class\")\n",
        "    plt.xlabel(\"Class\")\n",
        "    plt.ylabel(\"Accuracy\")\n",
        "    plt.bar(classname, class_accuracy)"
      ],
      "metadata": {
        "colab": {
          "base_uri": "https://localhost:8080/",
          "height": 366
        },
        "id": "JtLNOa6T_Xe9",
        "outputId": "67d4a44b-3802-440f-b313-9616cb0ef724"
      },
      "execution_count": null,
      "outputs": [
        {
          "output_type": "stream",
          "name": "stdout",
          "text": [
            "Accuracy of the Third Network on the validation images: 89 %\n",
            "Accuracy for class: Motorbikes is 84.0 %\n",
            "Accuracy for class: airplanes is 100.0 %\n",
            "Accuracy for class: schooner is 0.0 %\n"
          ]
        },
        {
          "output_type": "display_data",
          "data": {
            "text/plain": [
              "<Figure size 432x288 with 1 Axes>"
            ],
            "image/png": "[encoded data removed]"
          },
          "metadata": {
            "needs_background": "light"
          }
        }
      ]
    },
    {
      "cell_type": "code",
      "source": [
        "# Reference : (https://pytorch.org/tutorials/beginner/blitz/cifar10_tutorial.html#training-a-classifier)\n",
        "import torch.nn as nn\n",
        "import torch.nn.functional as F\n",
        "\n",
        "\n",
        "class Model3Net(nn.Module):\n",
        "    def __init__(self):\n",
        "        super().__init__()\n",
        "        self.conv1 = nn.Conv2d(3, 6, 6) # Modification to Hyper-Parameters \n",
        "        self.pool = nn.AdaptiveAvgPool2d(6) # Modification \n",
        "        self.conv2 = nn.Conv2d(6, 12, 6) # Modification to Hyper-Parameters\n",
        "        self.conv3 = nn.Conv2d(12, 24, 6) # Modification to Hyper-Parameters\n",
        "        self.conv4 = nn.Conv2d(24, 48, 6) # Addition of layer\n",
        "        self.conv5 = nn.Conv2d(48, 96, 6) # Addition of layer\n",
        "        self.conv6 = nn.Conv2d(96, 192, 6) # Addition of layer\n",
        "        self.conv7 = nn.Conv2d(192, 384, 6) # Addition of layer\n",
        "        self.conv8 = nn.Conv2d(384, 768, 6) # Addition of layer\n",
        "        self.fc1 = nn.Linear(768 * 6 * 6, 512) # Modification to Hyper-Parameters\n",
        "        self.fc2 = nn.Linear(512, 256) # Modification to Hyper-Parameters\n",
        "        self.fc3 = nn.Linear(256, 128) # Modification to Hyper-Parameters\n",
        "        self.fc4 = nn.Linear(128, 10) # Addition of layer\n",
        "\n",
        "    def forward(self, x):\n",
        "        x = self.pool(F.relu(self.conv1(x)))\n",
        "        x = self.pool(F.relu(self.conv2(x)))\n",
        "        x = self.pool(F.relu(self.conv3(x)))\n",
        "        x = self.pool(F.relu(self.conv4(x)))\n",
        "        x = self.pool(F.relu(self.conv5(x)))\n",
        "        x = self.pool(F.relu(self.conv6(x)))\n",
        "        x = self.pool(F.relu(self.conv7(x)))\n",
        "        x = self.pool(F.relu(self.conv8(x)))\n",
        "        x = torch.flatten(x, 1) # flatten all dimensions except batch\n",
        "        x = F.relu(self.fc1(x))\n",
        "        x = F.relu(self.fc2(x))\n",
        "        x = F.relu(self.fc3(x)) # Modification \n",
        "        x = self.fc4(x)\n",
        "        return x\n",
        "\n",
        "\n",
        "model3net = Model3Net()\n",
        "# Reference : (https://pytorch.org/tutorials/beginner/blitz/cifar10_tutorial.html#training-a-classifier)\n",
        "\n",
        "import torch.optim as optim\n",
        "\n",
        "criterion = nn.CrossEntropyLoss()\n",
        "optimizer = optim.SGD(model3net.parameters(), lr=0.001, momentum=0.9)\n",
        "\n",
        "for epoch in range(10):  # let's run for 5 epochs \n",
        "\n",
        "    running_loss = 0.0\n",
        "    for i, data in enumerate(dataloaders['train'], 0): # Modification to map dataloader\n",
        "        # get the inputs; data is a list of [inputs, labels]\n",
        "        inputs, labels = data\n",
        "\n",
        "        # zero the parameter gradients\n",
        "        optimizer.zero_grad()\n",
        "\n",
        "        # forward + backward + optimize\n",
        "        outputs = model3net(inputs) # Modification to map to Model 1 \n",
        "        loss = criterion(outputs, labels)\n",
        "        loss.backward()\n",
        "        optimizer.step()\n",
        "\n",
        "        # print statistics\n",
        "        running_loss += loss.item()\n",
        "        if i % 100 == 99:    # print every 100 mini-batches\n",
        "            print(f'[epoch : {epoch + 1}, mini-batches : {i + 1:5d}] loss: {running_loss / 2000:.3f}')\n",
        "            running_loss = 0.0\n",
        "\n",
        "print('Finished Training Model 3')"
      ],
      "metadata": {
        "colab": {
          "base_uri": "https://localhost:8080/"
        },
        "id": "QvG7UdST_XdS",
        "outputId": "9469b0b2-213e-42c3-8b7f-4dd3b1c53f3b"
      },
      "execution_count": null,
      "outputs": [
        {
          "output_type": "stream",
          "name": "stdout",
          "text": [
            "[epoch : 1, mini-batches :   100] loss: 0.105\n",
            "[epoch : 2, mini-batches :   100] loss: 0.080\n",
            "[epoch : 3, mini-batches :   100] loss: 0.060\n",
            "[epoch : 4, mini-batches :   100] loss: 0.049\n",
            "[epoch : 5, mini-batches :   100] loss: 0.044\n",
            "[epoch : 6, mini-batches :   100] loss: 0.044\n",
            "[epoch : 7, mini-batches :   100] loss: 0.043\n",
            "[epoch : 8, mini-batches :   100] loss: 0.040\n",
            "[epoch : 9, mini-batches :   100] loss: 0.030\n",
            "[epoch : 10, mini-batches :   100] loss: 0.024\n",
            "Finished Training Model 3\n"
          ]
        }
      ]
    },
    {
      "cell_type": "code",
      "source": [
        "# Reference : (https://pytorch.org/tutorials/beginner/blitz/cifar10_tutorial.html#training-a-classifier)\n",
        "correct = 0\n",
        "total = 0\n",
        "# since we're not training, we don't need to calculate the gradients for our outputs\n",
        "with torch.no_grad():\n",
        "    for data in dataloaders['val']: # Modification to map dataloader\n",
        "        images, labels = data\n",
        "        # calculate outputs by running images through the network\n",
        "        outputs = model3net(images)\n",
        "        # the class with the highest energy is what we choose as prediction\n",
        "        _, predicted = torch.max(outputs.data, 1)\n",
        "        total += labels.size(0)\n",
        "        correct += (predicted == labels).sum().item()\n",
        "fourth_model_accuracy = 100 * correct // total\n",
        "print(\"Accuracy of the Fourth Network on the validation images:\", fourth_model_accuracy ,'%')\n",
        "# Reference : (https://pytorch.org/tutorials/beginner/blitz/cifar10_tutorial.html#training-a-classifier)\n",
        "\n",
        "# prepare to count predictions for each class\n",
        "correct_pred = {classname: 0 for classname in classes}\n",
        "total_pred = {classname: 0 for classname in classes}\n",
        "\n",
        "# again no gradients needed\n",
        "with torch.no_grad():\n",
        "    for data in dataloaders['val']: # Modification to map dataloader\n",
        "        images, labels = data\n",
        "        outputs = model3net(images)\n",
        "        _, predictions = torch.max(outputs, 1)\n",
        "        # collect the correct predictions for each class\n",
        "        for label, prediction in zip(labels, predictions):\n",
        "            if label == prediction:\n",
        "                correct_pred[classes[label]] += 1\n",
        "            total_pred[classes[label]] += 1\n",
        "\n",
        "\n",
        "# print accuracy for each class\n",
        "for classname, correct_count in correct_pred.items():\n",
        "    class_accuracy = 100 * float(correct_count) / total_pred[classname]\n",
        "    print(f'Accuracy for class: {classname:5s} is {class_accuracy:.1f} %')\n",
        "\n",
        "    # Plot graph for each class Airplane, Motorbikes, Schooner\n",
        "    plt.title(\"Model 3 Perdiction Accuracy for each class\")\n",
        "    plt.xlabel(\"Class\")\n",
        "    plt.ylabel(\"Accuracy\")\n",
        "    plt.bar(classname, class_accuracy)"
      ],
      "metadata": {
        "colab": {
          "base_uri": "https://localhost:8080/",
          "height": 366
        },
        "id": "8eJG1s85_Xcc",
        "outputId": "9e05be53-f340-45c8-c3f8-183ac7d180d0"
      },
      "execution_count": null,
      "outputs": [
        {
          "output_type": "stream",
          "name": "stdout",
          "text": [
            "Accuracy of the Fourth Network on the validation images: 89 %\n",
            "Accuracy for class: Motorbikes is 87.1 %\n",
            "Accuracy for class: airplanes is 96.9 %\n",
            "Accuracy for class: schooner is 0.0 %\n"
          ]
        },
        {
          "output_type": "display_data",
          "data": {
            "text/plain": [
              "<Figure size 432x288 with 1 Axes>"
            ],
            "image/png": "[encoded data removed]"
          },
          "metadata": {
            "needs_background": "light"
          }
        }
      ]
    },
    {
      "cell_type": "code",
      "source": [
        "# Plot graph for each class Airplane, Motorbikes, Schooner\n",
        "plt.title(\"Various Model Perdiction Accuracy\")\n",
        "plt.xlabel(\"Model\")\n",
        "plt.ylabel(\"Accuracy\")\n",
        "x = [\"Base Model\", \"Model 1\", \"Model 2\", \"Model 3\"]\n",
        "y = [first_model_accuracy,second_model_accuracy,third_model_accuracy,fourth_model_accuracy]\n",
        "plt.bar(x, y)"
      ],
      "metadata": {
        "colab": {
          "base_uri": "https://localhost:8080/",
          "height": 313
        },
        "id": "_0055DeZ_Xah",
        "outputId": "82a75a32-6c1b-49fd-b3e5-4cbc84719010"
      },
      "execution_count": null,
      "outputs": [
        {
          "output_type": "execute_result",
          "data": {
            "text/plain": [
              "<BarContainer object of 4 artists>"
            ]
          },
          "metadata": {},
          "execution_count": 47
        },
        {
          "output_type": "display_data",
          "data": {
            "text/plain": [
              "<Figure size 432x288 with 1 Axes>"
            ],
            "image/png": "[encoded data removed]"
          },
          "metadata": {
            "needs_background": "light"
          }
        }
      ]
    },
    {
      "cell_type": "code",
      "source": [],
      "metadata": {
        "id": "j079Tk9B-4mU"
      },
      "execution_count": null,
      "outputs": []
    },
    {
      "cell_type": "code",
      "source": [
        "#Reference : (https://discuss.pytorch.org/t/how-to-split-dataset-into-test-and-validation-sets/33987/4)\n",
        "def train_val_dataset(dataset, val_split=0.20):\n",
        "    train_idx, val_idx = train_test_split(list(range(len(dataset))), test_size=val_split)\n",
        "    datasets = {}\n",
        "    datasets['train'] = Subset(dataset, train_idx)\n",
        "    datasets['val'] = Subset(dataset, val_idx)\n",
        "    return datasets\n",
        "\n",
        "dataset = ImageFolder(img_data_dir, transform=Compose([\n",
        "        transforms.Resize((300,300)),\n",
        "        transforms.GaussianBlur(1,sigma=(0.1,0.5)),\n",
        "        transforms.RandomRotation(5),\n",
        "        transforms.RandomHorizontalFlip(),\n",
        "        transforms.ToTensor()\n",
        "    ]))\n",
        "print(\"Total Number of Images\",len(dataset))\n",
        "datasets = train_val_dataset(dataset)\n",
        "print(\"Total Number of Images in Training Dataset \",len(datasets['train']))\n",
        "print(\"Total Number of Images in Validation Dataset \",len(datasets['val']))\n",
        "print(\"Dataset Information \",datasets['train'].dataset)\n",
        "\n",
        "dataloaders = {x:DataLoader(datasets[x],6, shuffle=True) for x in ['train','val']}\n",
        "x,y = next(iter(dataloaders['train']))\n",
        "print(x.shape, y.shape)"
      ],
      "metadata": {
        "colab": {
          "base_uri": "https://localhost:8080/"
        },
        "id": "rDM66oxE9x-b",
        "outputId": "ed3edd9f-53e4-4ac3-d56f-93164765e6fd"
      },
      "execution_count": null,
      "outputs": [
        {
          "output_type": "stream",
          "name": "stdout",
          "text": [
            "Total Number of Images 1661\n",
            "Total Number of Images in Training Dataset  1328\n",
            "Total Number of Images in Validation Dataset  333\n",
            "Dataset Information  Dataset ImageFolder\n",
            "    Number of datapoints: 1661\n",
            "    Root location: caltech101_classification\n",
            "    StandardTransform\n",
            "Transform: Compose(\n",
            "               Resize(size=(300, 300), interpolation=bilinear, max_size=None, antialias=None)\n",
            "               GaussianBlur(kernel_size=(1, 1), sigma=(0.1, 0.5))\n",
            "               RandomRotation(degrees=[-5.0, 5.0], interpolation=nearest, expand=False, fill=0)\n",
            "               RandomHorizontalFlip(p=0.5)\n",
            "               ToTensor()\n",
            "           )\n",
            "torch.Size([6, 3, 300, 300]) torch.Size([6])\n"
          ]
        }
      ]
    },
    {
      "cell_type": "code",
      "source": [
        "classes = ('Motorbikes', 'airplanes', 'schooner')\n",
        "print(classes)\n",
        "batch_size = 6\n",
        "# Reference : (https://pytorch.org/tutorials/beginner/blitz/cifar10_tutorial.html#training-a-classifier)\n",
        "import matplotlib.pyplot as plt\n",
        "import numpy as np\n",
        "\n",
        "# functions to show an image\n",
        "\n",
        "\n",
        "def imshow(img):\n",
        "    img = img / 2 + 0.5     # unnormalize\n",
        "    npimg = img.numpy()\n",
        "    plt.imshow(np.transpose(npimg, (1, 2, 0)))\n",
        "    plt.show()\n",
        "\n",
        "\n",
        "# get some random training images\n",
        "dataiter = iter(dataloaders['train']) # Modification to map dataloader\n",
        "images, labels = next(dataiter)\n",
        "\n",
        "# show images\n",
        "imshow(torchvision.utils.make_grid(images))\n",
        "# print labels\n",
        "print(' '.join(f'{classes[labels[j]]:5s}' for j in range(batch_size)))"
      ],
      "metadata": {
        "colab": {
          "base_uri": "https://localhost:8080/",
          "height": 144
        },
        "id": "30b8MWTwH-xG",
        "outputId": "24cd1a07-c561-4ae1-d925-5851c87acdea"
      },
      "execution_count": null,
      "outputs": [
        {
          "output_type": "stream",
          "name": "stdout",
          "text": [
            "('Motorbikes', 'airplanes', 'schooner')\n"
          ]
        },
        {
          "output_type": "display_data",
          "data": {
            "text/plain": [
              "<Figure size 432x288 with 1 Axes>"
            ],
            "image/png": "[encoded data removed]"
          },
          "metadata": {
            "needs_background": "light"
          }
        },
        {
          "output_type": "stream",
          "name": "stdout",
          "text": [
            "Motorbikes airplanes Motorbikes airplanes Motorbikes Motorbikes\n"
          ]
        }
      ]
    },
    {
      "cell_type": "code",
      "source": [
        "# Reference : (https://pytorch.org/tutorials/beginner/blitz/cifar10_tutorial.html#training-a-classifier)\n",
        "import torch.nn as nn\n",
        "import torch.nn.functional as F\n",
        "\n",
        "\n",
        "class BaseNet(nn.Module):\n",
        "    def __init__(self):\n",
        "        super().__init__()\n",
        "        self.conv1 = nn.Conv2d(3, 6, 3)\n",
        "        self.pool = nn.AdaptiveAvgPool2d(3)\n",
        "        self.conv2 = nn.Conv2d(6, 12, 3)\n",
        "        self.fc1 = nn.Linear(12 * 3 * 3, 240)\n",
        "        self.fc2 = nn.Linear(240, 120)\n",
        "        self.fc3 = nn.Linear(120, 10)\n",
        "\n",
        "    def forward(self, x):\n",
        "        x = self.pool(F.relu(self.conv1(x)))\n",
        "        x = self.pool(F.relu(self.conv2(x)))\n",
        "        x = torch.flatten(x, 1) # flatten all dimensions except batch\n",
        "        x = F.relu(self.fc1(x))\n",
        "        x = F.relu(self.fc2(x))\n",
        "        x = self.fc3(x)\n",
        "        return x\n",
        "\n",
        "\n",
        "net = BaseNet()\n",
        "# Reference : (https://pytorch.org/tutorials/beginner/blitz/cifar10_tutorial.html#training-a-classifier)\n",
        "\n",
        "import torch.optim as optim\n",
        "\n",
        "criterion = nn.CrossEntropyLoss()\n",
        "optimizer = optim.SGD(net.parameters(), lr=0.001, momentum=0.9)\n",
        "# Reference : (https://pytorch.org/tutorials/beginner/blitz/cifar10_tutorial.html#training-a-classifier)\n",
        "\n",
        "for epoch in range(2):  # loop over the dataset multiple times\n",
        "\n",
        "    running_loss = 0.0\n",
        "    for i, data in enumerate(dataloaders['train'], 0): # Modification to map dataloader\n",
        "        # get the inputs; data is a list of [inputs, labels]\n",
        "        inputs, labels = data\n",
        "\n",
        "        # zero the parameter gradients\n",
        "        optimizer.zero_grad()\n",
        "\n",
        "        # forward + backward + optimize\n",
        "        outputs = net(inputs)\n",
        "        loss = criterion(outputs, labels)\n",
        "        loss.backward()\n",
        "        optimizer.step()\n",
        "\n",
        "        # print statistics\n",
        "        running_loss += loss.item()\n",
        "        if i % 100 == 99:    # print every 2000 mini-batches\n",
        "            print(f'[epoch : {epoch + 1}, mini-batches : {i + 1:5d}] loss: {running_loss / 100:.3f}')\n",
        "            running_loss = 0.0\n",
        "\n",
        "print('Finished Training Base Model')\n",
        "# Reference : (https://pytorch.org/tutorials/beginner/blitz/cifar10_tutorial.html#training-a-classifier)\n",
        "PATH = './image_classifier.pth'\n",
        "torch.save(net.state_dict(), PATH)\n",
        "# Reference : (https://pytorch.org/tutorials/beginner/blitz/cifar10_tutorial.html#training-a-classifier)\n",
        "\n",
        "dataiter = iter(dataloaders['train']) # Modification to map dataloader\n",
        "images, labels = next(dataiter)\n",
        "\n",
        "# print images\n",
        "imshow(torchvision.utils.make_grid(images))\n",
        "print('GroundTruth: ', ' '.join(f'{classes[labels[j]]:5s}' for j in range(6)))\n",
        "# Reference : (https://pytorch.org/tutorials/beginner/blitz/cifar10_tutorial.html#training-a-classifier)\n",
        "# Reference : (https://pytorch.org/tutorials/beginner/blitz/cifar10_tutorial.html#training-a-classifier)\n",
        "net = BaseNet()\n",
        "net.load_state_dict(torch.load(PATH))\n",
        "# Reference : (https://pytorch.org/tutorials/beginner/blitz/cifar10_tutorial.html#training-a-classifier)\n",
        "\n",
        "outputs = net(images)\n",
        "# Reference : (https://pytorch.org/tutorials/beginner/blitz/cifar10_tutorial.html#training-a-classifier)\n",
        "_, predicted = torch.max(outputs, 1)\n",
        "\n",
        "print('Predicted: ', ' '.join(f'{classes[predicted[j]]:5s}'\n",
        "                              for j in range(6)))"
      ],
      "metadata": {
        "colab": {
          "base_uri": "https://localhost:8080/",
          "height": 233
        },
        "id": "9cH3q6MzII9P",
        "outputId": "10a90214-a0ad-4fa8-86a2-bb49734d6536"
      },
      "execution_count": null,
      "outputs": [
        {
          "output_type": "stream",
          "name": "stdout",
          "text": [
            "[epoch : 1, mini-batches :   100] loss: 2.062\n",
            "[epoch : 1, mini-batches :   200] loss: 1.337\n",
            "[epoch : 2, mini-batches :   100] loss: 0.905\n",
            "[epoch : 2, mini-batches :   200] loss: 0.807\n",
            "Finished Training Base Model\n"
          ]
        },
        {
          "output_type": "display_data",
          "data": {
            "text/plain": [
              "<Figure size 432x288 with 1 Axes>"
            ],
            "image/png": "[encoded data removed]"
          },
          "metadata": {
            "needs_background": "light"
          }
        },
        {
          "output_type": "stream",
          "name": "stdout",
          "text": [
            "GroundTruth:  Motorbikes Motorbikes schooner Motorbikes Motorbikes airplanes\n",
            "Predicted:  Motorbikes Motorbikes Motorbikes Motorbikes Motorbikes Motorbikes\n"
          ]
        }
      ]
    },
    {
      "cell_type": "code",
      "source": [
        "# Reference : (https://pytorch.org/tutorials/beginner/blitz/cifar10_tutorial.html#training-a-classifier)\n",
        "correct = 0\n",
        "total = 0\n",
        "# since we're not training, we don't need to calculate the gradients for our outputs\n",
        "with torch.no_grad():\n",
        "    for data in dataloaders['val']: # Modification to map dataloader\n",
        "        images, labels = data\n",
        "        # calculate outputs by running images through the network\n",
        "        outputs = net(images)\n",
        "        # the class with the highest energy is what we choose as prediction\n",
        "        _, predicted = torch.max(outputs.data, 1)\n",
        "        total += labels.size(0)\n",
        "        correct += (predicted == labels).sum().item()\n",
        "first_model_accuracy = 100 * correct // total # Modification\n",
        "print(\"Accuracy of the First Network on the validation images:\", first_model_accuracy ,'%') # Modification\n",
        "# Reference : (https://pytorch.org/tutorials/beginner/blitz/cifar10_tutorial.html#training-a-classifier)\n",
        "\n",
        "# prepare to count predictions for each class\n",
        "correct_pred = {classname: 0 for classname in classes}\n",
        "total_pred = {classname: 0 for classname in classes}\n",
        "\n",
        "# again no gradients needed\n",
        "with torch.no_grad():\n",
        "    for data in dataloaders['val']: # Modification to map dataloader\n",
        "        images, labels = data\n",
        "        outputs = net(images)\n",
        "        _, predictions = torch.max(outputs, 1)\n",
        "        # collect the correct predictions for each class\n",
        "        for label, prediction in zip(labels, predictions):\n",
        "            if label == prediction:\n",
        "                correct_pred[classes[label]] += 1\n",
        "            total_pred[classes[label]] += 1\n",
        "\n",
        "\n",
        "# print accuracy for each class\n",
        "for classname, correct_count in correct_pred.items():\n",
        "    class_accuracy = 100 * float(correct_count) / total_pred[classname] # Modification to map dataloader\n",
        "    print(f'Accuracy for class: {classname:5s} is {class_accuracy:.1f} %')\n",
        "\n",
        "    # Plot graph for each class Airplane, Motorbikes, Schooner\n",
        "    plt.title(\"Base Model Perdiction Accuracy for each class\")\n",
        "    plt.xlabel(\"Class\")\n",
        "    plt.ylabel(\"Accuracy\")\n",
        "    plt.bar(classname, class_accuracy)\n"
      ],
      "metadata": {
        "colab": {
          "base_uri": "https://localhost:8080/",
          "height": 366
        },
        "id": "2IXAhky6I_yS",
        "outputId": "bd960dc4-1fb7-4af8-eeff-911f25b1d98b"
      },
      "execution_count": null,
      "outputs": [
        {
          "output_type": "stream",
          "name": "stdout",
          "text": [
            "Accuracy of the First Network on the validation images: 47 %\n",
            "Accuracy for class: Motorbikes is 100.0 %\n",
            "Accuracy for class: airplanes is 0.0 %\n",
            "Accuracy for class: schooner is 0.0 %\n"
          ]
        },
        {
          "output_type": "display_data",
          "data": {
            "text/plain": [
              "<Figure size 432x288 with 1 Axes>"
            ],
            "image/png": "[encoded data removed]"
          },
          "metadata": {
            "needs_background": "light"
          }
        }
      ]
    },
    {
      "cell_type": "code",
      "source": [
        "# Reference : (https://pytorch.org/tutorials/beginner/blitz/cifar10_tutorial.html#training-a-classifier)\n",
        "import torch.nn as nn\n",
        "import torch.nn.functional as F\n",
        "\n",
        "\n",
        "class Model1Net(nn.Module):\n",
        "    def __init__(self):\n",
        "        super().__init__()\n",
        "        self.conv1 = nn.Conv2d(3, 16, 6) # Modification to Hyper-Parameters \n",
        "        self.pool = nn.AdaptiveAvgPool2d(6)\n",
        "        self.conv2 = nn.Conv2d(16, 32, 6) # Modification to Hyper-Parameters\n",
        "        self.fc1 = nn.Linear(32 * 6 * 6, 120) # Modification to Hyper-Parameters\n",
        "        self.fc2 = nn.Linear(120, 60) # Modification to Hyper-Parameters\n",
        "        self.fc3 = nn.Linear(60, 10) # Modification to Hyper-Parameters\n",
        "\n",
        "    def forward(self, x):\n",
        "        x = self.pool(F.relu(self.conv1(x)))\n",
        "        x = self.pool(F.relu(self.conv2(x)))\n",
        "        x = torch.flatten(x, 1) # flatten all dimensions except batch\n",
        "        x = F.relu(self.fc1(x))\n",
        "        x = F.relu(self.fc2(x))\n",
        "        x = self.fc3(x)\n",
        "        return x\n",
        "\n",
        "\n",
        "model1net = Model1Net()\n",
        "# Reference : (https://pytorch.org/tutorials/beginner/blitz/cifar10_tutorial.html#training-a-classifier)\n",
        "\n",
        "import torch.optim as optim\n",
        "\n",
        "criterion = nn.CrossEntropyLoss()\n",
        "optimizer = optim.SGD(model1net.parameters(), lr=0.001, momentum=0.9)\n",
        "# Reference : (https://pytorch.org/tutorials/beginner/blitz/cifar10_tutorial.html#training-a-classifier)\n",
        "for epoch in range(5):  # let's run for 5 epochs \n",
        "\n",
        "    running_loss = 0.0\n",
        "    for i, data in enumerate(dataloaders['train'], 0): # Modification to map dataloader\n",
        "        # get the inputs; data is a list of [inputs, labels]\n",
        "        inputs, labels = data\n",
        "\n",
        "        # zero the parameter gradients\n",
        "        optimizer.zero_grad()\n",
        "\n",
        "        # forward + backward + optimize\n",
        "        outputs = model1net(inputs) # Modification to map to Model 1 \n",
        "        loss = criterion(outputs, labels)\n",
        "        loss.backward()\n",
        "        optimizer.step()\n",
        "\n",
        "        # print statistics\n",
        "        running_loss += loss.item()\n",
        "        if i % 100 == 99:    # print every 100 mini-batches\n",
        "            print(f'[epoch : {epoch + 1}, mini-batches : {i + 1:5d}] loss: {running_loss / 100:.3f}')\n",
        "            running_loss = 0.0\n",
        "\n",
        "print('Finished Training Model 1')"
      ],
      "metadata": {
        "colab": {
          "base_uri": "https://localhost:8080/"
        },
        "id": "FZXiQFfdK3xL",
        "outputId": "0538ef0d-0f79-4d44-9e69-3d1b9e447651"
      },
      "execution_count": null,
      "outputs": [
        {
          "output_type": "stream",
          "name": "stdout",
          "text": [
            "[epoch : 1, mini-batches :   100] loss: 1.618\n",
            "[epoch : 1, mini-batches :   200] loss: 0.860\n",
            "[epoch : 2, mini-batches :   100] loss: 0.787\n",
            "[epoch : 2, mini-batches :   200] loss: 0.490\n",
            "[epoch : 3, mini-batches :   100] loss: 0.483\n",
            "[epoch : 3, mini-batches :   200] loss: 0.510\n",
            "[epoch : 4, mini-batches :   100] loss: 0.400\n",
            "[epoch : 4, mini-batches :   200] loss: 0.420\n",
            "[epoch : 5, mini-batches :   100] loss: 0.371\n",
            "[epoch : 5, mini-batches :   200] loss: 0.376\n",
            "Finished Training Model 1\n"
          ]
        }
      ]
    },
    {
      "cell_type": "code",
      "source": [
        "# Reference : (https://pytorch.org/tutorials/beginner/blitz/cifar10_tutorial.html#training-a-classifier)\n",
        "\n",
        "correct = 0\n",
        "total = 0\n",
        "# since we're not training, we don't need to calculate the gradients for our outputs\n",
        "with torch.no_grad():\n",
        "    for data in dataloaders['val']: # Modification to map dataloader\n",
        "        images, labels = data\n",
        "        # calculate outputs by running images through the network\n",
        "        outputs = model1net(images)\n",
        "        # the class with the highest energy is what we choose as prediction\n",
        "        _, predicted = torch.max(outputs.data, 1)\n",
        "        total += labels.size(0)\n",
        "        correct += (predicted == labels).sum().item()\n",
        "second_model_accuracy = 100 * correct // total\n",
        "print(\"Accuracy of the Second Network on the validation images:\", second_model_accuracy ,'%')\n",
        "# Reference : (https://pytorch.org/tutorials/beginner/blitz/cifar10_tutorial.html#training-a-classifier)\n",
        "\n",
        "# prepare to count predictions for each class\n",
        "correct_pred = {classname: 0 for classname in classes}\n",
        "total_pred = {classname: 0 for classname in classes}\n",
        "\n",
        "# again no gradients needed\n",
        "with torch.no_grad():\n",
        "    for data in dataloaders['val']: # Modification to map dataloader\n",
        "        images, labels = data\n",
        "        outputs = model1net(images)\n",
        "        _, predictions = torch.max(outputs, 1)\n",
        "        # collect the correct predictions for each class\n",
        "        for label, prediction in zip(labels, predictions):\n",
        "            if label == prediction:\n",
        "                correct_pred[classes[label]] += 1\n",
        "            total_pred[classes[label]] += 1\n",
        "\n",
        "\n",
        "# print accuracy for each class\n",
        "for classname, correct_count in correct_pred.items():\n",
        "    class_accuracy = 100 * float(correct_count) / total_pred[classname]\n",
        "    print(f'Accuracy for class: {classname:5s} is {class_accuracy:.1f} %')\n",
        "\n",
        "    # Plot graph for each class Airplane, Motorbikes, Schooner\n",
        "    plt.title(\"Model 1 Perdiction Accuracy for each class\")\n",
        "    plt.xlabel(\"Class\")\n",
        "    plt.ylabel(\"Accuracy\")\n",
        "    plt.bar(classname, class_accuracy)"
      ],
      "metadata": {
        "colab": {
          "base_uri": "https://localhost:8080/",
          "height": 366
        },
        "id": "L99bc-48K-G9",
        "outputId": "b5c4bbbf-be1e-4cda-8b37-07b6d5b708b0"
      },
      "execution_count": null,
      "outputs": [
        {
          "output_type": "stream",
          "name": "stdout",
          "text": [
            "Accuracy of the Second Network on the validation images: 83 %\n",
            "Accuracy for class: Motorbikes is 70.9 %\n",
            "Accuracy for class: airplanes is 98.8 %\n",
            "Accuracy for class: schooner is 30.0 %\n"
          ]
        },
        {
          "output_type": "display_data",
          "data": {
            "text/plain": [
              "<Figure size 432x288 with 1 Axes>"
            ],
            "image/png": "[encoded data removed]"
          },
          "metadata": {
            "needs_background": "light"
          }
        }
      ]
    },
    {
      "cell_type": "code",
      "source": [
        "# Reference : (https://pytorch.org/tutorials/beginner/blitz/cifar10_tutorial.html#training-a-classifier)\n",
        "import torch.nn as nn\n",
        "import torch.nn.functional as F\n",
        "\n",
        "\n",
        "class Model2Net(nn.Module):\n",
        "    def __init__(self):\n",
        "        super().__init__()\n",
        "        self.conv1 = nn.Conv2d(3, 6, 6) # Modification to Hyper-Parameters \n",
        "        self.pool = nn.AdaptiveAvgPool2d(6)\n",
        "        self.conv2 = nn.Conv2d(6, 12, 6) # Modification to Hyper-Parameters\n",
        "        self.conv3 = nn.Conv2d(12, 24, 6) # Modification to Hyper-Parameters\n",
        "        self.conv4 = nn.Conv2d(24, 48, 6) # Modification to Hyper-Parameters\n",
        "        self.conv5 = nn.Conv2d(48, 96, 6) # Modification to Hyper-Parameters\n",
        "        self.fc1 = nn.Linear(96 * 6 * 6, 160) # Modification to Hyper-Parameters\n",
        "        self.fc2 = nn.Linear(160, 60) # Modification to Hyper-Parameters\n",
        "        self.fc3 = nn.Linear(60, 10) # Modification to Hyper-Parameters\n",
        "\n",
        "    def forward(self, x):\n",
        "        x = self.pool(F.relu(self.conv1(x)))\n",
        "        x = self.pool(F.relu(self.conv2(x)))\n",
        "        x = self.pool(F.relu(self.conv3(x)))\n",
        "        x = self.pool(F.relu(self.conv4(x)))\n",
        "        x = self.pool(F.relu(self.conv5(x)))\n",
        "        x = torch.flatten(x, 1) # flatten all dimensions except batch\n",
        "        x = F.relu(self.fc1(x))\n",
        "        x = F.relu(self.fc2(x))\n",
        "        x = self.fc3(x)\n",
        "        return x\n",
        "\n",
        "\n",
        "model2net = Model2Net()\n",
        "# Reference : (https://pytorch.org/tutorials/beginner/blitz/cifar10_tutorial.html#training-a-classifier)\n",
        "\n",
        "import torch.optim as optim\n",
        "\n",
        "criterion = nn.CrossEntropyLoss()\n",
        "optimizer = optim.SGD(model2net.parameters(), lr=0.001, momentum=0.9)\n",
        "\n",
        "for epoch in range(10):  # let's run for 5 epochs \n",
        "\n",
        "    running_loss = 0.0\n",
        "    for i, data in enumerate(dataloaders['train'], 0): # Modification to map dataloader\n",
        "        # get the inputs; data is a list of [inputs, labels]\n",
        "        inputs, labels = data\n",
        "\n",
        "        # zero the parameter gradients\n",
        "        optimizer.zero_grad()\n",
        "\n",
        "        # forward + backward + optimize\n",
        "        outputs = model2net(inputs) # Modification to map to Model 1 \n",
        "        loss = criterion(outputs, labels)\n",
        "        loss.backward()\n",
        "        optimizer.step()\n",
        "\n",
        "        # print statistics\n",
        "        running_loss += loss.item()\n",
        "        if i % 100 == 99:    # print every 100 mini-batches\n",
        "            print(f'[epoch : {epoch + 1}, mini-batches : {i + 1:5d}] loss: {running_loss / 2000:.3f}')\n",
        "            running_loss = 0.0\n",
        "\n",
        "print('Finished Training Model 2')"
      ],
      "metadata": {
        "colab": {
          "base_uri": "https://localhost:8080/"
        },
        "id": "zlOc1JkSMNBf",
        "outputId": "3895b4cd-04fc-4aad-f045-8c9a5ed28e5d"
      },
      "execution_count": null,
      "outputs": [
        {
          "output_type": "stream",
          "name": "stdout",
          "text": [
            "[epoch : 1, mini-batches :   100] loss: 0.108\n",
            "[epoch : 1, mini-batches :   200] loss: 0.089\n",
            "[epoch : 2, mini-batches :   100] loss: 0.046\n",
            "[epoch : 2, mini-batches :   200] loss: 0.042\n",
            "[epoch : 3, mini-batches :   100] loss: 0.041\n",
            "[epoch : 3, mini-batches :   200] loss: 0.037\n",
            "[epoch : 4, mini-batches :   100] loss: 0.031\n",
            "[epoch : 4, mini-batches :   200] loss: 0.030\n",
            "[epoch : 5, mini-batches :   100] loss: 0.028\n",
            "[epoch : 5, mini-batches :   200] loss: 0.023\n",
            "[epoch : 6, mini-batches :   100] loss: 0.023\n",
            "[epoch : 6, mini-batches :   200] loss: 0.022\n",
            "[epoch : 7, mini-batches :   100] loss: 0.022\n",
            "[epoch : 7, mini-batches :   200] loss: 0.024\n",
            "[epoch : 8, mini-batches :   100] loss: 0.019\n",
            "[epoch : 8, mini-batches :   200] loss: 0.018\n",
            "[epoch : 9, mini-batches :   100] loss: 0.020\n",
            "[epoch : 9, mini-batches :   200] loss: 0.019\n",
            "[epoch : 10, mini-batches :   100] loss: 0.019\n",
            "[epoch : 10, mini-batches :   200] loss: 0.021\n",
            "Finished Training Model 2\n"
          ]
        }
      ]
    },
    {
      "cell_type": "code",
      "source": [
        "# Reference : (https://pytorch.org/tutorials/beginner/blitz/cifar10_tutorial.html#training-a-classifier)\n",
        "\n",
        "correct = 0\n",
        "total = 0\n",
        "# since we're not training, we don't need to calculate the gradients for our outputs\n",
        "with torch.no_grad():\n",
        "    for data in dataloaders['val']: # Modification to map dataloader\n",
        "        images, labels = data\n",
        "        # calculate outputs by running images through the network\n",
        "        outputs = model2net(images)\n",
        "        # the class with the highest energy is what we choose as prediction\n",
        "        _, predicted = torch.max(outputs.data, 1)\n",
        "        total += labels.size(0)\n",
        "        correct += (predicted == labels).sum().item()\n",
        "third_model_accuracy = 100 * correct // total\n",
        "print(\"Accuracy of the Third Network on the validation images:\", third_model_accuracy ,'%')\n",
        "# Reference : (https://pytorch.org/tutorials/beginner/blitz/cifar10_tutorial.html#training-a-classifier)\n",
        "\n",
        "# prepare to count predictions for each class\n",
        "correct_pred = {classname: 0 for classname in classes}\n",
        "total_pred = {classname: 0 for classname in classes}\n",
        "\n",
        "# again no gradients needed\n",
        "with torch.no_grad():\n",
        "    for data in dataloaders['val']: # Modification to map dataloader\n",
        "        images, labels = data\n",
        "        outputs = model2net(images)\n",
        "        _, predictions = torch.max(outputs, 1)\n",
        "        # collect the correct predictions for each class\n",
        "        for label, prediction in zip(labels, predictions):\n",
        "            if label == prediction:\n",
        "                correct_pred[classes[label]] += 1\n",
        "            total_pred[classes[label]] += 1\n",
        "\n",
        "\n",
        "# print accuracy for each class\n",
        "for classname, correct_count in correct_pred.items():\n",
        "    class_accuracy = 100 * float(correct_count) / total_pred[classname]\n",
        "    print(f'Accuracy for class: {classname:5s} is {class_accuracy:.1f} %')\n",
        "\n",
        "    # Plot graph for each class Airplane, Motorbikes, Schooner\n",
        "    plt.title(\"Model 2 Perdiction Accuracy for each class\")\n",
        "    plt.xlabel(\"Class\")\n",
        "    plt.ylabel(\"Accuracy\")\n",
        "    plt.bar(classname, class_accuracy)"
      ],
      "metadata": {
        "colab": {
          "base_uri": "https://localhost:8080/",
          "height": 366
        },
        "id": "PyUu6zAnMSSK",
        "outputId": "630388f8-5799-4cd4-b845-b3fdda951d78"
      },
      "execution_count": null,
      "outputs": [
        {
          "output_type": "stream",
          "name": "stdout",
          "text": [
            "Accuracy of the Third Network on the validation images: 85 %\n",
            "Accuracy for class: Motorbikes is 79.7 %\n",
            "Accuracy for class: airplanes is 98.2 %\n",
            "Accuracy for class: schooner is 0.0 %\n"
          ]
        },
        {
          "output_type": "display_data",
          "data": {
            "text/plain": [
              "<Figure size 432x288 with 1 Axes>"
            ],
            "image/png": "[encoded data removed]"
          },
          "metadata": {
            "needs_background": "light"
          }
        }
      ]
    },
    {
      "cell_type": "code",
      "source": [
        "# Reference : (https://pytorch.org/tutorials/beginner/blitz/cifar10_tutorial.html#training-a-classifier)\n",
        "import torch.nn as nn\n",
        "import torch.nn.functional as F\n",
        "\n",
        "\n",
        "class Model3Net(nn.Module):\n",
        "    def __init__(self):\n",
        "        super().__init__()\n",
        "        self.conv1 = nn.Conv2d(3, 6, 6) # Modification to Hyper-Parameters \n",
        "        self.pool = nn.AdaptiveAvgPool2d(6) # Modification \n",
        "        self.conv2 = nn.Conv2d(6, 12, 6) # Modification to Hyper-Parameters\n",
        "        self.conv3 = nn.Conv2d(12, 24, 6) # Modification to Hyper-Parameters\n",
        "        self.conv4 = nn.Conv2d(24, 48, 6) # Addition of layer\n",
        "        self.conv5 = nn.Conv2d(48, 96, 6) # Addition of layer\n",
        "        self.conv6 = nn.Conv2d(96, 192, 6) # Addition of layer\n",
        "        self.conv7 = nn.Conv2d(192, 384, 6) # Addition of layer\n",
        "        self.conv8 = nn.Conv2d(384, 768, 6) # Addition of layer\n",
        "        self.fc1 = nn.Linear(768 * 6 * 6, 512) # Modification to Hyper-Parameters\n",
        "        self.fc2 = nn.Linear(512, 256) # Modification to Hyper-Parameters\n",
        "        self.fc3 = nn.Linear(256, 128) # Modification to Hyper-Parameters\n",
        "        self.fc4 = nn.Linear(128, 10) # Addition of layer\n",
        "\n",
        "    def forward(self, x):\n",
        "        x = self.pool(F.relu(self.conv1(x)))\n",
        "        x = self.pool(F.relu(self.conv2(x)))\n",
        "        x = self.pool(F.relu(self.conv3(x)))\n",
        "        x = self.pool(F.relu(self.conv4(x)))\n",
        "        x = self.pool(F.relu(self.conv5(x)))\n",
        "        x = self.pool(F.relu(self.conv6(x)))\n",
        "        x = self.pool(F.relu(self.conv7(x)))\n",
        "        x = self.pool(F.relu(self.conv8(x)))\n",
        "        x = torch.flatten(x, 1) # flatten all dimensions except batch\n",
        "        x = F.relu(self.fc1(x))\n",
        "        x = F.relu(self.fc2(x))\n",
        "        x = F.relu(self.fc3(x)) # Modification \n",
        "        x = self.fc4(x)\n",
        "        return x\n",
        "\n",
        "\n",
        "model3net = Model3Net()\n",
        "# Reference : (https://pytorch.org/tutorials/beginner/blitz/cifar10_tutorial.html#training-a-classifier)\n",
        "\n",
        "import torch.optim as optim\n",
        "\n",
        "criterion = nn.CrossEntropyLoss()\n",
        "optimizer = optim.SGD(model3net.parameters(), lr=0.001, momentum=0.9)\n",
        "\n",
        "for epoch in range(10):  # let's run for 5 epochs \n",
        "\n",
        "    running_loss = 0.0\n",
        "    for i, data in enumerate(dataloaders['train'], 0): # Modification to map dataloader\n",
        "        # get the inputs; data is a list of [inputs, labels]\n",
        "        inputs, labels = data\n",
        "\n",
        "        # zero the parameter gradients\n",
        "        optimizer.zero_grad()\n",
        "\n",
        "        # forward + backward + optimize\n",
        "        outputs = model3net(inputs) # Modification to map to Model 1 \n",
        "        loss = criterion(outputs, labels)\n",
        "        loss.backward()\n",
        "        optimizer.step()\n",
        "\n",
        "        # print statistics\n",
        "        running_loss += loss.item()\n",
        "        if i % 100 == 99:    # print every 100 mini-batches\n",
        "            print(f'[epoch : {epoch + 1}, mini-batches : {i + 1:5d}] loss: {running_loss / 2000:.3f}')\n",
        "            running_loss = 0.0\n",
        "\n",
        "print('Finished Training Model 3')"
      ],
      "metadata": {
        "colab": {
          "base_uri": "https://localhost:8080/"
        },
        "id": "TpeNYciiMct4",
        "outputId": "9b1eb31c-a129-4f47-a9db-8c32677d4bcd"
      },
      "execution_count": null,
      "outputs": [
        {
          "output_type": "stream",
          "name": "stdout",
          "text": [
            "[epoch : 1, mini-batches :   100] loss: 0.106\n",
            "[epoch : 1, mini-batches :   200] loss: 0.086\n",
            "[epoch : 2, mini-batches :   100] loss: 0.066\n",
            "[epoch : 2, mini-batches :   200] loss: 0.054\n",
            "[epoch : 3, mini-batches :   100] loss: 0.045\n",
            "[epoch : 3, mini-batches :   200] loss: 0.043\n",
            "[epoch : 4, mini-batches :   100] loss: 0.032\n",
            "[epoch : 4, mini-batches :   200] loss: 0.031\n",
            "[epoch : 5, mini-batches :   100] loss: 0.027\n",
            "[epoch : 5, mini-batches :   200] loss: 0.026\n",
            "[epoch : 6, mini-batches :   100] loss: 0.027\n",
            "[epoch : 6, mini-batches :   200] loss: 0.022\n",
            "[epoch : 7, mini-batches :   100] loss: 0.022\n",
            "[epoch : 7, mini-batches :   200] loss: 0.019\n",
            "[epoch : 8, mini-batches :   100] loss: 0.019\n",
            "[epoch : 8, mini-batches :   200] loss: 0.018\n",
            "[epoch : 9, mini-batches :   100] loss: 0.020\n",
            "[epoch : 9, mini-batches :   200] loss: 0.020\n",
            "[epoch : 10, mini-batches :   100] loss: 0.021\n",
            "[epoch : 10, mini-batches :   200] loss: 0.018\n",
            "Finished Training Model 3\n"
          ]
        }
      ]
    },
    {
      "cell_type": "code",
      "source": [
        "# Reference : (https://pytorch.org/tutorials/beginner/blitz/cifar10_tutorial.html#training-a-classifier)\n",
        "correct = 0\n",
        "total = 0\n",
        "# since we're not training, we don't need to calculate the gradients for our outputs\n",
        "with torch.no_grad():\n",
        "    for data in dataloaders['val']: # Modification to map dataloader\n",
        "        images, labels = data\n",
        "        # calculate outputs by running images through the network\n",
        "        outputs = model3net(images)\n",
        "        # the class with the highest energy is what we choose as prediction\n",
        "        _, predicted = torch.max(outputs.data, 1)\n",
        "        total += labels.size(0)\n",
        "        correct += (predicted == labels).sum().item()\n",
        "fourth_model_accuracy = 100 * correct // total\n",
        "print(\"Accuracy of the Fourth Network on the validation images:\", fourth_model_accuracy ,'%')\n",
        "# Reference : (https://pytorch.org/tutorials/beginner/blitz/cifar10_tutorial.html#training-a-classifier)\n",
        "\n",
        "# prepare to count predictions for each class\n",
        "correct_pred = {classname: 0 for classname in classes}\n",
        "total_pred = {classname: 0 for classname in classes}\n",
        "\n",
        "# again no gradients needed\n",
        "with torch.no_grad():\n",
        "    for data in dataloaders['val']: # Modification to map dataloader\n",
        "        images, labels = data\n",
        "        outputs = model3net(images)\n",
        "        _, predictions = torch.max(outputs, 1)\n",
        "        # collect the correct predictions for each class\n",
        "        for label, prediction in zip(labels, predictions):\n",
        "            if label == prediction:\n",
        "                correct_pred[classes[label]] += 1\n",
        "            total_pred[classes[label]] += 1\n",
        "\n",
        "\n",
        "# print accuracy for each class\n",
        "for classname, correct_count in correct_pred.items():\n",
        "    class_accuracy = 100 * float(correct_count) / total_pred[classname]\n",
        "    print(f'Accuracy for class: {classname:5s} is {class_accuracy:.1f} %')\n",
        "\n",
        "    # Plot graph for each class Airplane, Motorbikes, Schooner\n",
        "    plt.title(\"Model 3 Perdiction Accuracy for each class\")\n",
        "    plt.xlabel(\"Class\")\n",
        "    plt.ylabel(\"Accuracy\")\n",
        "    plt.bar(classname, class_accuracy)"
      ],
      "metadata": {
        "colab": {
          "base_uri": "https://localhost:8080/",
          "height": 366
        },
        "id": "BBKbJxVtMjHR",
        "outputId": "3b9d2777-2d17-4db1-c4fa-9067c092a48b"
      },
      "execution_count": null,
      "outputs": [
        {
          "output_type": "stream",
          "name": "stdout",
          "text": [
            "Accuracy of the Fourth Network on the validation images: 88 %\n",
            "Accuracy for class: Motorbikes is 84.2 %\n",
            "Accuracy for class: airplanes is 98.2 %\n",
            "Accuracy for class: schooner is 0.0 %\n"
          ]
        },
        {
          "output_type": "display_data",
          "data": {
            "text/plain": [
              "<Figure size 432x288 with 1 Axes>"
            ],
            "image/png": "[encoded data removed]"
          },
          "metadata": {
            "needs_background": "light"
          }
        }
      ]
    },
    {
      "cell_type": "code",
      "source": [
        "# Plot graph for each class Airplane, Motorbikes, Schooner\n",
        "plt.title(\"Various Model Perdiction Accuracy\")\n",
        "plt.xlabel(\"Model\")\n",
        "plt.ylabel(\"Accuracy\")\n",
        "x = [\"Base Model\", \"Model 1\", \"Model 2\", \"Model 3\"]\n",
        "y = [first_model_accuracy,second_model_accuracy,third_model_accuracy,fourth_model_accuracy]\n",
        "plt.bar(x, y)"
      ],
      "metadata": {
        "colab": {
          "base_uri": "https://localhost:8080/",
          "height": 313
        },
        "id": "K0tIquDnMm46",
        "outputId": "a348099a-1a04-480c-9d61-949d093d20b9"
      },
      "execution_count": null,
      "outputs": [
        {
          "output_type": "execute_result",
          "data": {
            "text/plain": [
              "<BarContainer object of 4 artists>"
            ]
          },
          "metadata": {},
          "execution_count": 18
        },
        {
          "output_type": "display_data",
          "data": {
            "text/plain": [
              "<Figure size 432x288 with 1 Axes>"
            ],
            "image/png": "[encoded data removed]"
          },
          "metadata": {
            "needs_background": "light"
          }
        }
      ]
    }
  ]
}