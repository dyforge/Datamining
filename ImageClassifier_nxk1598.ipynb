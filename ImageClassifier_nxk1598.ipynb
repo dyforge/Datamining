{
  "nbformat": 4,
  "nbformat_minor": 0,
  "metadata": {
    "colab": {
      "provenance": [],
      "collapsed_sections": []
    },
    "kernelspec": {
      "name": "python3",
      "display_name": "Python 3"
    },
    "language_info": {
      "name": "python"
    }
  },
  "cells": [
    {
      "cell_type": "code",
      "execution_count": null,
      "metadata": {
        "id": "I6vtDCU2nZqV"
      },
      "outputs": [],
      "source": [
        "import keras\n",
        "import numpy as np \n",
        "import pandas as pd \n",
        "from PIL import Image\n",
        "import seaborn as sns\n",
        "import matplotlib.pyplot as plt\n",
        "import os\n",
        "import torch\n",
        "from torchvision import transforms\n",
        "from torchvision.datasets import ImageFolder\n",
        "from torch.utils.data import Subset\n",
        "from sklearn.model_selection import train_test_split\n",
        "from torchvision.transforms import Compose, ToTensor, Resize\n",
        "from torch.utils.data import DataLoader\n",
        "from torch.nn.functional import normalize\n",
        "import torchvision"
      ]
    },
    {
      "cell_type": "code",
      "source": [
        "from google.colab import drive\n",
        "drive.mount('/content/drive')"
      ],
      "metadata": {
        "colab": {
          "base_uri": "https://localhost:8080/"
        },
        "id": "2rxogFjvseeI",
        "outputId": "da2cc193-44bf-461b-8624-3092bdef747c"
      },
      "execution_count": null,
      "outputs": [
        {
          "output_type": "stream",
          "name": "stdout",
          "text": [
            "Drive already mounted at /content/drive; to attempt to forcibly remount, call drive.mount(\"/content/drive\", force_remount=True).\n"
          ]
        }
      ]
    },
    {
      "cell_type": "code",
      "source": [
        "%cd drive/My Drive\n",
        "%cd UTA/5334/ImageClassifier"
      ],
      "metadata": {
        "colab": {
          "base_uri": "https://localhost:8080/"
        },
        "id": "8wzi9I7XskFf",
        "outputId": "2fcba1a5-71b9-42a8-cfaf-1e16452b6d30"
      },
      "execution_count": null,
      "outputs": [
        {
          "output_type": "stream",
          "name": "stdout",
          "text": [
            "/content/drive/My Drive\n",
            "/content/drive/My Drive/UTA/5334/ImageClassifier\n"
          ]
        }
      ]
    },
    {
      "cell_type": "code",
      "source": [
        "import os\n",
        "img_data_dir = 'caltech101_classification'\n",
        "print(\"img_data_dir: \",img_data_dir)\n",
        "print(\"Total Number of Images of different class:\")\n",
        "print(\"# of Airplane:\",len(os.listdir(os.path.join(img_data_dir,'airplanes'))))\n",
        "print(\"# of Motorbikes:\",len(os.listdir(os.path.join(img_data_dir,'Motorbikes'))))\n",
        "print(\"# of Schooner:\",len(os.listdir(os.path.join(img_data_dir,'schooner'))))"
      ],
      "metadata": {
        "colab": {
          "base_uri": "https://localhost:8080/"
        },
        "id": "6bDMley9sqtO",
        "outputId": "2cee9061-79c6-46e8-a4d5-f74a98d21076"
      },
      "execution_count": null,
      "outputs": [
        {
          "output_type": "stream",
          "name": "stdout",
          "text": [
            "img_data_dir:  caltech101_classification\n",
            "Total Number of Images of different class:\n",
            "# of Airplane: 800\n",
            "# of Motorbikes: 798\n",
            "# of Schooner: 63\n"
          ]
        }
      ]
    },
    {
      "cell_type": "markdown",
      "source": [
        "Loading Images into Training and Validation Dataset having split ratio of 80:20\n",
        "Batch Size: 10\n",
        "Image Size :  240x240"
      ],
      "metadata": {
        "id": "zuPPwxctvUUo"
      }
    },
    {
      "cell_type": "code",
      "source": [
        "#Reference : (https://discuss.pytorch.org/t/how-to-split-dataset-into-test-and-validation-sets/33987/4)\n",
        "def train_val_dataset(dataset, val_split=0.20):\n",
        "    train_idx, val_idx = train_test_split(list(range(len(dataset))), test_size=val_split)\n",
        "    datasets = {}\n",
        "    datasets['train'] = Subset(dataset, train_idx)\n",
        "    datasets['val'] = Subset(dataset, val_idx)\n",
        "    return datasets\n",
        "\n",
        "dataset = ImageFolder(img_data_dir, transform=Compose([Resize((240,240)),ToTensor()]))\n",
        "print(\"Total Number of Images\",len(dataset))\n",
        "datasets = train_val_dataset(dataset)\n",
        "print(\"Total Number of Images in Training Dataset \",len(datasets['train']))\n",
        "print(\"Total Number of Images in Validation Dataset \",len(datasets['val']))\n",
        "print(\"Dataset Information \",datasets['train'].dataset)\n",
        "\n",
        "dataloaders = {x:DataLoader(datasets[x],4, shuffle=True) for x in ['train','val']}\n",
        "x,y = next(iter(dataloaders['train']))\n",
        "print(x.shape, y.shape)"
      ],
      "metadata": {
        "colab": {
          "base_uri": "https://localhost:8080/",
          "height": 365
        },
        "id": "p2AJn1NTt-ty",
        "outputId": "08c7abb8-f06e-409a-cad0-795526645235"
      },
      "execution_count": null,
      "outputs": [
        {
          "output_type": "error",
          "ename": "AttributeError",
          "evalue": "ignored",
          "traceback": [
            "\u001b[0;31m---------------------------------------------------------------------------\u001b[0m",
            "\u001b[0;31mAttributeError\u001b[0m                            Traceback (most recent call last)",
            "\u001b[0;32m<ipython-input-39-4c8adc2684e3>\u001b[0m in \u001b[0;36m<module>\u001b[0;34m\u001b[0m\n\u001b[1;32m      7\u001b[0m     \u001b[0;32mreturn\u001b[0m \u001b[0mdatasets\u001b[0m\u001b[0;34m\u001b[0m\u001b[0;34m\u001b[0m\u001b[0m\n\u001b[1;32m      8\u001b[0m \u001b[0;34m\u001b[0m\u001b[0m\n\u001b[0;32m----> 9\u001b[0;31m \u001b[0mdataset\u001b[0m \u001b[0;34m=\u001b[0m \u001b[0mImageFolder\u001b[0m\u001b[0;34m(\u001b[0m\u001b[0mimg_data_dir\u001b[0m\u001b[0;34m,\u001b[0m \u001b[0mtransform\u001b[0m\u001b[0;34m=\u001b[0m\u001b[0mCompose\u001b[0m\u001b[0;34m(\u001b[0m\u001b[0;34m[\u001b[0m\u001b[0mResize\u001b[0m\u001b[0;34m(\u001b[0m\u001b[0;34m(\u001b[0m\u001b[0;36m240\u001b[0m\u001b[0;34m,\u001b[0m\u001b[0;36m240\u001b[0m\u001b[0;34m)\u001b[0m\u001b[0;34m)\u001b[0m\u001b[0;34m,\u001b[0m\u001b[0mnormalize\u001b[0m\u001b[0;34m(\u001b[0m\u001b[0;34m(\u001b[0m\u001b[0;36m0.5\u001b[0m\u001b[0;34m,\u001b[0m\u001b[0;36m0.5\u001b[0m\u001b[0;34m,\u001b[0m\u001b[0;36m0.5\u001b[0m\u001b[0;34m)\u001b[0m\u001b[0;34m)\u001b[0m\u001b[0;34m,\u001b[0m\u001b[0mToTensor\u001b[0m\u001b[0;34m(\u001b[0m\u001b[0;34m)\u001b[0m\u001b[0;34m]\u001b[0m\u001b[0;34m)\u001b[0m\u001b[0;34m)\u001b[0m\u001b[0;34m\u001b[0m\u001b[0;34m\u001b[0m\u001b[0m\n\u001b[0m\u001b[1;32m     10\u001b[0m \u001b[0mprint\u001b[0m\u001b[0;34m(\u001b[0m\u001b[0;34m\"Total Number of Images\"\u001b[0m\u001b[0;34m,\u001b[0m\u001b[0mlen\u001b[0m\u001b[0;34m(\u001b[0m\u001b[0mdataset\u001b[0m\u001b[0;34m)\u001b[0m\u001b[0;34m)\u001b[0m\u001b[0;34m\u001b[0m\u001b[0;34m\u001b[0m\u001b[0m\n\u001b[1;32m     11\u001b[0m \u001b[0mdatasets\u001b[0m \u001b[0;34m=\u001b[0m \u001b[0mtrain_val_dataset\u001b[0m\u001b[0;34m(\u001b[0m\u001b[0mdataset\u001b[0m\u001b[0;34m)\u001b[0m\u001b[0;34m\u001b[0m\u001b[0;34m\u001b[0m\u001b[0m\n",
            "\u001b[0;32m/usr/local/lib/python3.7/dist-packages/torch/nn/functional.py\u001b[0m in \u001b[0;36mnormalize\u001b[0;34m(input, p, dim, eps, out)\u001b[0m\n\u001b[1;32m   4618\u001b[0m         \u001b[0;32mreturn\u001b[0m \u001b[0mhandle_torch_function\u001b[0m\u001b[0;34m(\u001b[0m\u001b[0mnormalize\u001b[0m\u001b[0;34m,\u001b[0m \u001b[0;34m(\u001b[0m\u001b[0minput\u001b[0m\u001b[0;34m,\u001b[0m \u001b[0mout\u001b[0m\u001b[0;34m)\u001b[0m\u001b[0;34m,\u001b[0m \u001b[0minput\u001b[0m\u001b[0;34m,\u001b[0m \u001b[0mp\u001b[0m\u001b[0;34m=\u001b[0m\u001b[0mp\u001b[0m\u001b[0;34m,\u001b[0m \u001b[0mdim\u001b[0m\u001b[0;34m=\u001b[0m\u001b[0mdim\u001b[0m\u001b[0;34m,\u001b[0m \u001b[0meps\u001b[0m\u001b[0;34m=\u001b[0m\u001b[0meps\u001b[0m\u001b[0;34m,\u001b[0m \u001b[0mout\u001b[0m\u001b[0;34m=\u001b[0m\u001b[0mout\u001b[0m\u001b[0;34m)\u001b[0m\u001b[0;34m\u001b[0m\u001b[0;34m\u001b[0m\u001b[0m\n\u001b[1;32m   4619\u001b[0m     \u001b[0;32mif\u001b[0m \u001b[0mout\u001b[0m \u001b[0;32mis\u001b[0m \u001b[0;32mNone\u001b[0m\u001b[0;34m:\u001b[0m\u001b[0;34m\u001b[0m\u001b[0;34m\u001b[0m\u001b[0m\n\u001b[0;32m-> 4620\u001b[0;31m         \u001b[0mdenom\u001b[0m \u001b[0;34m=\u001b[0m \u001b[0minput\u001b[0m\u001b[0;34m.\u001b[0m\u001b[0mnorm\u001b[0m\u001b[0;34m(\u001b[0m\u001b[0mp\u001b[0m\u001b[0;34m,\u001b[0m \u001b[0mdim\u001b[0m\u001b[0;34m,\u001b[0m \u001b[0mkeepdim\u001b[0m\u001b[0;34m=\u001b[0m\u001b[0;32mTrue\u001b[0m\u001b[0;34m)\u001b[0m\u001b[0;34m.\u001b[0m\u001b[0mclamp_min\u001b[0m\u001b[0;34m(\u001b[0m\u001b[0meps\u001b[0m\u001b[0;34m)\u001b[0m\u001b[0;34m.\u001b[0m\u001b[0mexpand_as\u001b[0m\u001b[0;34m(\u001b[0m\u001b[0minput\u001b[0m\u001b[0;34m)\u001b[0m\u001b[0;34m\u001b[0m\u001b[0;34m\u001b[0m\u001b[0m\n\u001b[0m\u001b[1;32m   4621\u001b[0m         \u001b[0;32mreturn\u001b[0m \u001b[0minput\u001b[0m \u001b[0;34m/\u001b[0m \u001b[0mdenom\u001b[0m\u001b[0;34m\u001b[0m\u001b[0;34m\u001b[0m\u001b[0m\n\u001b[1;32m   4622\u001b[0m     \u001b[0;32melse\u001b[0m\u001b[0;34m:\u001b[0m\u001b[0;34m\u001b[0m\u001b[0;34m\u001b[0m\u001b[0m\n",
            "\u001b[0;31mAttributeError\u001b[0m: 'tuple' object has no attribute 'norm'"
          ]
        }
      ]
    },
    {
      "cell_type": "markdown",
      "source": [
        "Save Training and Validation dataset in their respective folder"
      ],
      "metadata": {
        "id": "A9BXDvRlHoom"
      }
    },
    {
      "cell_type": "code",
      "source": [
        "classes = ('Motorbikes', 'airplanes', 'schooner')\n",
        "print(classes)\n",
        "batch_size = 4"
      ],
      "metadata": {
        "colab": {
          "base_uri": "https://localhost:8080/"
        },
        "id": "UuAC-mhT0eis",
        "outputId": "7d8e701e-b741-4a88-beca-cc8c10554582"
      },
      "execution_count": null,
      "outputs": [
        {
          "output_type": "stream",
          "name": "stdout",
          "text": [
            "('Motorbikes', 'airplanes', 'schooner')\n"
          ]
        }
      ]
    },
    {
      "cell_type": "code",
      "source": [
        "# Reference : (https://pytorch.org/tutorials/beginner/blitz/cifar10_tutorial.html#training-a-classifier)\n",
        "import matplotlib.pyplot as plt\n",
        "import numpy as np\n",
        "\n",
        "# functions to show an image\n",
        "\n",
        "\n",
        "def imshow(img):\n",
        "    img = img / 2 + 0.5     # unnormalize\n",
        "    npimg = img.numpy()\n",
        "    plt.imshow(np.transpose(npimg, (1, 2, 0)))\n",
        "    plt.show()\n",
        "\n",
        "\n",
        "# get some random training images\n",
        "dataiter = iter(dataloaders['train']) # Modification to map dataloader\n",
        "images, labels = next(dataiter)\n",
        "\n",
        "# show images\n",
        "imshow(torchvision.utils.make_grid(images))\n",
        "# print labels\n",
        "print(' '.join(f'{classes[labels[j]]:5s}' for j in range(batch_size)))"
      ],
      "metadata": {
        "colab": {
          "base_uri": "https://localhost:8080/",
          "height": 154
        },
        "id": "tyIpSAV5z8mE",
        "outputId": "59204158-d21f-4538-bff9-9413ab970a25"
      },
      "execution_count": null,
      "outputs": [
        {
          "output_type": "display_data",
          "data": {
            "text/plain": [
              "<Figure size 432x288 with 1 Axes>"
            ],
            "image/png": "[encoded data removed]"
          },
          "metadata": {
            "needs_background": "light"
          }
        },
        {
          "output_type": "stream",
          "name": "stdout",
          "text": [
            "airplanes airplanes Motorbikes airplanes\n"
          ]
        }
      ]
    },
    {
      "cell_type": "code",
      "source": [
        "# Reference : (https://pytorch.org/tutorials/beginner/blitz/cifar10_tutorial.html#training-a-classifier)\n",
        "import torch.nn as nn\n",
        "import torch.nn.functional as F\n",
        "\n",
        "\n",
        "class BaseNet(nn.Module):\n",
        "    def __init__(self):\n",
        "        super().__init__()\n",
        "        self.conv1 = nn.Conv2d(3, 6, 3)\n",
        "        self.pool = nn.AdaptiveAvgPool2d(3)\n",
        "        self.conv2 = nn.Conv2d(6, 12, 3)\n",
        "        self.fc1 = nn.Linear(12 * 3 * 3, 240)\n",
        "        self.fc2 = nn.Linear(240, 120)\n",
        "        self.fc3 = nn.Linear(120, 10)\n",
        "\n",
        "    def forward(self, x):\n",
        "        x = self.pool(F.relu(self.conv1(x)))\n",
        "        x = self.pool(F.relu(self.conv2(x)))\n",
        "        x = torch.flatten(x, 1) # flatten all dimensions except batch\n",
        "        x = F.relu(self.fc1(x))\n",
        "        x = F.relu(self.fc2(x))\n",
        "        x = self.fc3(x)\n",
        "        return x\n",
        "\n",
        "\n",
        "net = BaseNet()"
      ],
      "metadata": {
        "id": "kE-4H7Ya3Mcd"
      },
      "execution_count": null,
      "outputs": []
    },
    {
      "cell_type": "code",
      "source": [
        "# Reference : (https://pytorch.org/tutorials/beginner/blitz/cifar10_tutorial.html#training-a-classifier)\n",
        "\n",
        "import torch.optim as optim\n",
        "\n",
        "criterion = nn.CrossEntropyLoss()\n",
        "optimizer = optim.SGD(net.parameters(), lr=0.001, momentum=0.9)"
      ],
      "metadata": {
        "id": "k517eI6X3yun"
      },
      "execution_count": null,
      "outputs": []
    },
    {
      "cell_type": "code",
      "source": [
        "# Reference : (https://pytorch.org/tutorials/beginner/blitz/cifar10_tutorial.html#training-a-classifier)\n",
        "\n",
        "for epoch in range(2):  # loop over the dataset multiple times\n",
        "\n",
        "    running_loss = 0.0\n",
        "    for i, data in enumerate(dataloaders['train'], 0): # Modification to map dataloader\n",
        "        # get the inputs; data is a list of [inputs, labels]\n",
        "        inputs, labels = data\n",
        "\n",
        "        # zero the parameter gradients\n",
        "        optimizer.zero_grad()\n",
        "\n",
        "        # forward + backward + optimize\n",
        "        outputs = net(inputs)\n",
        "        loss = criterion(outputs, labels)\n",
        "        loss.backward()\n",
        "        optimizer.step()\n",
        "\n",
        "        # print statistics\n",
        "        running_loss += loss.item()\n",
        "        if i % 2000 == 1999:    # print every 2000 mini-batches\n",
        "            print(f'[epoch : {epoch + 1}, mini-batches : {i + 1:5d}] loss: {running_loss / 2000:.3f}')\n",
        "            running_loss = 0.0\n",
        "\n",
        "print('Finished Training Base Model')"
      ],
      "metadata": {
        "colab": {
          "base_uri": "https://localhost:8080/"
        },
        "id": "_OlPVi-kcq08",
        "outputId": "e31d9ba6-afe4-4a87-d13e-fc28000ee621"
      },
      "execution_count": null,
      "outputs": [
        {
          "output_type": "stream",
          "name": "stdout",
          "text": [
            "Finished Training Base Model\n"
          ]
        }
      ]
    },
    {
      "cell_type": "code",
      "source": [
        "PATH = './image_classifier.pth'\n",
        "torch.save(net.state_dict(), PATH)"
      ],
      "metadata": {
        "id": "UIMvog_0et50"
      },
      "execution_count": null,
      "outputs": []
    },
    {
      "cell_type": "code",
      "source": [
        "dataiter = iter(dataloaders['train']) # Modification to map dataloader\n",
        "images, labels = next(dataiter)\n",
        "\n",
        "# print images\n",
        "imshow(torchvision.utils.make_grid(images))\n",
        "print('GroundTruth: ', ' '.join(f'{classes[labels[j]]:5s}' for j in range(4)))"
      ],
      "metadata": {
        "colab": {
          "base_uri": "https://localhost:8080/",
          "height": 154
        },
        "id": "H7XIjDKYe9U_",
        "outputId": "6afa5d47-1eb8-4c95-d8d0-8812a9a4a61a"
      },
      "execution_count": null,
      "outputs": [
        {
          "output_type": "display_data",
          "data": {
            "text/plain": [
              "<Figure size 432x288 with 1 Axes>"
            ],
            "image/png": "[encoded data removed]"
          },
          "metadata": {
            "needs_background": "light"
          }
        },
        {
          "output_type": "stream",
          "name": "stdout",
          "text": [
            "GroundTruth:  airplanes Motorbikes Motorbikes Motorbikes\n"
          ]
        }
      ]
    },
    {
      "cell_type": "code",
      "source": [
        "net = BaseNet()\n",
        "net.load_state_dict(torch.load(PATH))"
      ],
      "metadata": {
        "colab": {
          "base_uri": "https://localhost:8080/"
        },
        "id": "D1_zT5cVgFdx",
        "outputId": "73076eeb-5e97-4277-9e70-da6d177e300c"
      },
      "execution_count": null,
      "outputs": [
        {
          "output_type": "execute_result",
          "data": {
            "text/plain": [
              "<All keys matched successfully>"
            ]
          },
          "metadata": {},
          "execution_count": 60
        }
      ]
    },
    {
      "cell_type": "code",
      "source": [
        "outputs = net(images)"
      ],
      "metadata": {
        "id": "CtPp6aUEgFWf"
      },
      "execution_count": null,
      "outputs": []
    },
    {
      "cell_type": "code",
      "source": [
        "_, predicted = torch.max(outputs, 1)\n",
        "\n",
        "print('Predicted: ', ' '.join(f'{classes[predicted[j]]:5s}'\n",
        "                              for j in range(4)))"
      ],
      "metadata": {
        "colab": {
          "base_uri": "https://localhost:8080/"
        },
        "id": "EoMjJQUBgcl_",
        "outputId": "a61e05e0-c06b-4254-d280-22513b29f417"
      },
      "execution_count": null,
      "outputs": [
        {
          "output_type": "stream",
          "name": "stdout",
          "text": [
            "Predicted:  airplanes Motorbikes Motorbikes Motorbikes\n"
          ]
        }
      ]
    },
    {
      "cell_type": "code",
      "source": [
        "correct = 0\n",
        "total = 0\n",
        "# since we're not training, we don't need to calculate the gradients for our outputs\n",
        "with torch.no_grad():\n",
        "    for data in dataloaders['val']: # Modification to map dataloader\n",
        "        images, labels = data\n",
        "        # calculate outputs by running images through the network\n",
        "        outputs = net(images)\n",
        "        # the class with the highest energy is what we choose as prediction\n",
        "        _, predicted = torch.max(outputs.data, 1)\n",
        "        total += labels.size(0)\n",
        "        correct += (predicted == labels).sum().item()\n",
        "first_model_accuracy = 100 * correct // total\n",
        "print(\"Accuracy of the First Network on the validation images:\", first_model_accuracy ,'%')"
      ],
      "metadata": {
        "colab": {
          "base_uri": "https://localhost:8080/"
        },
        "id": "m_ImZ08vhWpr",
        "outputId": "d5961761-2a0a-4238-d497-14987dd14fbf"
      },
      "execution_count": null,
      "outputs": [
        {
          "output_type": "stream",
          "name": "stdout",
          "text": [
            "Accuracy of the First Network on the validation images: 75 %\n"
          ]
        }
      ]
    },
    {
      "cell_type": "code",
      "source": [
        "# prepare to count predictions for each class\n",
        "correct_pred = {classname: 0 for classname in classes}\n",
        "total_pred = {classname: 0 for classname in classes}\n",
        "\n",
        "# again no gradients needed\n",
        "with torch.no_grad():\n",
        "    for data in dataloaders['val']: # Modification to map dataloader\n",
        "        images, labels = data\n",
        "        outputs = net(images)\n",
        "        _, predictions = torch.max(outputs, 1)\n",
        "        # collect the correct predictions for each class\n",
        "        for label, prediction in zip(labels, predictions):\n",
        "            if label == prediction:\n",
        "                correct_pred[classes[label]] += 1\n",
        "            total_pred[classes[label]] += 1\n",
        "\n",
        "\n",
        "# print accuracy for each class\n",
        "for classname, correct_count in correct_pred.items():\n",
        "    class_accuracy = 100 * float(correct_count) / total_pred[classname]\n",
        "    print(f'Accuracy for class: {classname:5s} is {class_accuracy:.1f} %')\n",
        "\n",
        "    # Plot graph for each class Airplane, Motorbikes, Schooner\n",
        "    plt.title(\"Base Model Perdiction Accuracy for each class\")\n",
        "    plt.xlabel(\"Class\")\n",
        "    plt.ylabel(\"Accuracy\")\n",
        "    plt.bar(classname, class_accuracy)\n"
      ],
      "metadata": {
        "colab": {
          "base_uri": "https://localhost:8080/",
          "height": 349
        },
        "id": "LzxKRxMdk-gG",
        "outputId": "c4bab512-9b50-42ff-9e38-a4a868dd56d8"
      },
      "execution_count": null,
      "outputs": [
        {
          "output_type": "stream",
          "name": "stdout",
          "text": [
            "Accuracy for class: Motorbikes is 83.2 %\n",
            "Accuracy for class: airplanes is 71.6 %\n",
            "Accuracy for class: schooner is 0.0 %\n"
          ]
        },
        {
          "output_type": "display_data",
          "data": {
            "text/plain": [
              "<Figure size 432x288 with 1 Axes>"
            ],
            "image/png": "[encoded data removed]"
          },
          "metadata": {
            "needs_background": "light"
          }
        }
      ]
    },
    {
      "cell_type": "code",
      "source": [
        "# Reference : (https://pytorch.org/tutorials/beginner/blitz/cifar10_tutorial.html#training-a-classifier)\n",
        "import torch.nn as nn\n",
        "import torch.nn.functional as F\n",
        "\n",
        "\n",
        "class Model1Net(nn.Module):\n",
        "    def __init__(self):\n",
        "        super().__init__()\n",
        "        self.conv1 = nn.Conv2d(3, 16, 6) # Modification to Hyper-Parameters \n",
        "        self.pool = nn.AdaptiveAvgPool2d(6)\n",
        "        self.conv2 = nn.Conv2d(16, 32, 6) # Modification to Hyper-Parameters\n",
        "        self.fc1 = nn.Linear(32 * 6 * 6, 120) # Modification to Hyper-Parameters\n",
        "        self.fc2 = nn.Linear(120, 60) # Modification to Hyper-Parameters\n",
        "        self.fc3 = nn.Linear(60, 10) # Modification to Hyper-Parameters\n",
        "\n",
        "    def forward(self, x):\n",
        "        x = self.pool(F.relu(self.conv1(x)))\n",
        "        x = self.pool(F.relu(self.conv2(x)))\n",
        "        x = torch.flatten(x, 1) # flatten all dimensions except batch\n",
        "        x = F.relu(self.fc1(x))\n",
        "        x = F.relu(self.fc2(x))\n",
        "        x = self.fc3(x)\n",
        "        return x\n",
        "\n",
        "\n",
        "model1net = Model1Net()"
      ],
      "metadata": {
        "id": "Mj9VWuTmmtC6"
      },
      "execution_count": null,
      "outputs": []
    },
    {
      "cell_type": "code",
      "source": [
        "# Reference : (https://pytorch.org/tutorials/beginner/blitz/cifar10_tutorial.html#training-a-classifier)\n",
        "\n",
        "import torch.optim as optim\n",
        "\n",
        "criterion = nn.CrossEntropyLoss()\n",
        "optimizer = optim.SGD(model1net.parameters(), lr=0.001, momentum=0.9)"
      ],
      "metadata": {
        "id": "xgdI7uMjnnps"
      },
      "execution_count": null,
      "outputs": []
    },
    {
      "cell_type": "code",
      "source": [
        "for epoch in range(5):  # let's run for 5 epochs \n",
        "\n",
        "    running_loss = 0.0\n",
        "    for i, data in enumerate(dataloaders['train'], 0):\n",
        "        # get the inputs; data is a list of [inputs, labels]\n",
        "        inputs, labels = data\n",
        "\n",
        "        # zero the parameter gradients\n",
        "        optimizer.zero_grad()\n",
        "\n",
        "        # forward + backward + optimize\n",
        "        outputs = model1net(inputs) # Modification to map to Model 1 \n",
        "        loss = criterion(outputs, labels)\n",
        "        loss.backward()\n",
        "        optimizer.step()\n",
        "\n",
        "        # print statistics\n",
        "        running_loss += loss.item()\n",
        "        if i % 100 == 99:    # print every 100 mini-batches\n",
        "            print(f'[epoch : {epoch + 1}, mini-batches : {i + 1:5d}] loss: {running_loss / 2000:.3f}')\n",
        "            running_loss = 0.0\n",
        "\n",
        "print('Finished Training Model 1')"
      ],
      "metadata": {
        "colab": {
          "base_uri": "https://localhost:8080/"
        },
        "id": "DCXcWu8xntVR",
        "outputId": "1e5b1400-2d09-4fd4-df15-4a1e44ba1885"
      },
      "execution_count": null,
      "outputs": [
        {
          "output_type": "stream",
          "name": "stdout",
          "text": [
            "Finished Training Model 1\n"
          ]
        }
      ]
    },
    {
      "cell_type": "code",
      "source": [
        "correct = 0\n",
        "total = 0\n",
        "# since we're not training, we don't need to calculate the gradients for our outputs\n",
        "with torch.no_grad():\n",
        "    for data in dataloaders['val']: # Modification to map dataloader\n",
        "        images, labels = data\n",
        "        # calculate outputs by running images through the network\n",
        "        outputs = model1net(images)\n",
        "        # the class with the highest energy is what we choose as prediction\n",
        "        _, predicted = torch.max(outputs.data, 1)\n",
        "        total += labels.size(0)\n",
        "        correct += (predicted == labels).sum().item()\n",
        "second_model_accuracy = 100 * correct // total\n",
        "print(\"Accuracy of the Second Network on the validation images:\", second_model_accuracy ,'%')"
      ],
      "metadata": {
        "colab": {
          "base_uri": "https://localhost:8080/"
        },
        "id": "LM6L5tKRpko1",
        "outputId": "96b43d8f-ba10-4da5-9cdf-f09495d74fbe"
      },
      "execution_count": null,
      "outputs": [
        {
          "output_type": "stream",
          "name": "stdout",
          "text": [
            "Accuracy of the Second Network on the validation images: 89 %\n"
          ]
        }
      ]
    },
    {
      "cell_type": "code",
      "source": [
        "# prepare to count predictions for each class\n",
        "correct_pred = {classname: 0 for classname in classes}\n",
        "total_pred = {classname: 0 for classname in classes}\n",
        "\n",
        "# again no gradients needed\n",
        "with torch.no_grad():\n",
        "    for data in dataloaders['val']: # Modification to map dataloader\n",
        "        images, labels = data\n",
        "        outputs = model1net(images)\n",
        "        _, predictions = torch.max(outputs, 1)\n",
        "        # collect the correct predictions for each class\n",
        "        for label, prediction in zip(labels, predictions):\n",
        "            if label == prediction:\n",
        "                correct_pred[classes[label]] += 1\n",
        "            total_pred[classes[label]] += 1\n",
        "\n",
        "\n",
        "# print accuracy for each class\n",
        "for classname, correct_count in correct_pred.items():\n",
        "    class_accuracy = 100 * float(correct_count) / total_pred[classname]\n",
        "    print(f'Accuracy for class: {classname:5s} is {class_accuracy:.1f} %')\n",
        "\n",
        "    # Plot graph for each class Airplane, Motorbikes, Schooner\n",
        "    plt.title(\"Model 1 Perdiction Accuracy for each class\")\n",
        "    plt.xlabel(\"Class\")\n",
        "    plt.ylabel(\"Accuracy\")\n",
        "    plt.bar(classname, class_accuracy)"
      ],
      "metadata": {
        "colab": {
          "base_uri": "https://localhost:8080/",
          "height": 349
        },
        "id": "eZ1XVXq2qXzY",
        "outputId": "91b7e999-0b47-4461-e97f-e7cce0af2ca6"
      },
      "execution_count": null,
      "outputs": [
        {
          "output_type": "stream",
          "name": "stdout",
          "text": [
            "Accuracy for class: Motorbikes is 85.6 %\n",
            "Accuracy for class: airplanes is 98.7 %\n",
            "Accuracy for class: schooner is 9.1 %\n"
          ]
        },
        {
          "output_type": "display_data",
          "data": {
            "text/plain": [
              "<Figure size 432x288 with 1 Axes>"
            ],
            "image/png": "[encoded data removed]"
          },
          "metadata": {
            "needs_background": "light"
          }
        }
      ]
    },
    {
      "cell_type": "code",
      "source": [
        "# Reference : (https://pytorch.org/tutorials/beginner/blitz/cifar10_tutorial.html#training-a-classifier)\n",
        "import torch.nn as nn\n",
        "import torch.nn.functional as F\n",
        "\n",
        "\n",
        "class Model2Net(nn.Module):\n",
        "    def __init__(self):\n",
        "        super().__init__()\n",
        "        self.conv1 = nn.Conv2d(3, 6, 6) # Modification to Hyper-Parameters \n",
        "        self.pool = nn.AdaptiveAvgPool2d(6)\n",
        "        self.conv2 = nn.Conv2d(6, 12, 6) # Modification to Hyper-Parameters\n",
        "        self.conv3 = nn.Conv2d(12, 24, 6) # Modification to Hyper-Parameters\n",
        "        self.conv4 = nn.Conv2d(24, 48, 6) # Modification to Hyper-Parameters\n",
        "        self.conv5 = nn.Conv2d(48, 96, 6) # Modification to Hyper-Parameters\n",
        "        self.fc1 = nn.Linear(96 * 6 * 6, 160) # Modification to Hyper-Parameters\n",
        "        self.fc2 = nn.Linear(160, 60) # Modification to Hyper-Parameters\n",
        "        self.fc3 = nn.Linear(60, 10) # Modification to Hyper-Parameters\n",
        "\n",
        "    def forward(self, x):\n",
        "        x = self.pool(F.relu(self.conv1(x)))\n",
        "        x = self.pool(F.relu(self.conv2(x)))\n",
        "        x = self.pool(F.relu(self.conv3(x)))\n",
        "        x = self.pool(F.relu(self.conv4(x)))\n",
        "        x = self.pool(F.relu(self.conv5(x)))\n",
        "        x = torch.flatten(x, 1) # flatten all dimensions except batch\n",
        "        x = F.relu(self.fc1(x))\n",
        "        x = F.relu(self.fc2(x))\n",
        "        x = self.fc3(x)\n",
        "        return x\n",
        "\n",
        "\n",
        "model2net = Model2Net()"
      ],
      "metadata": {
        "id": "ISDOoTnV8KEw"
      },
      "execution_count": null,
      "outputs": []
    },
    {
      "cell_type": "code",
      "source": [
        "# Reference : (https://pytorch.org/tutorials/beginner/blitz/cifar10_tutorial.html#training-a-classifier)\n",
        "\n",
        "import torch.optim as optim\n",
        "\n",
        "criterion = nn.CrossEntropyLoss()\n",
        "optimizer = optim.SGD(model2net.parameters(), lr=0.001, momentum=0.9)\n",
        "\n",
        "for epoch in range(10):  # let's run for 5 epochs \n",
        "\n",
        "    running_loss = 0.0\n",
        "    for i, data in enumerate(dataloaders['train'], 0):\n",
        "        # get the inputs; data is a list of [inputs, labels]\n",
        "        inputs, labels = data\n",
        "\n",
        "        # zero the parameter gradients\n",
        "        optimizer.zero_grad()\n",
        "\n",
        "        # forward + backward + optimize\n",
        "        outputs = model2net(inputs) # Modification to map to Model 1 \n",
        "        loss = criterion(outputs, labels)\n",
        "        loss.backward()\n",
        "        optimizer.step()\n",
        "\n",
        "        # print statistics\n",
        "        running_loss += loss.item()\n",
        "        if i % 100 == 99:    # print every 100 mini-batches\n",
        "            print(f'[epoch : {epoch + 1}, mini-batches : {i + 1:5d}] loss: {running_loss / 2000:.3f}')\n",
        "            running_loss = 0.0\n",
        "\n",
        "print('Finished Training Model 2')"
      ],
      "metadata": {
        "colab": {
          "base_uri": "https://localhost:8080/"
        },
        "id": "NG7f19iQ-YID",
        "outputId": "07c29047-5290-4864-a5d0-8db664a0095f"
      },
      "execution_count": null,
      "outputs": [
        {
          "output_type": "stream",
          "name": "stdout",
          "text": [
            "Finished Training Model 2\n"
          ]
        }
      ]
    },
    {
      "cell_type": "code",
      "source": [
        "correct = 0\n",
        "total = 0\n",
        "# since we're not training, we don't need to calculate the gradients for our outputs\n",
        "with torch.no_grad():\n",
        "    for data in dataloaders['val']: # Modification to map dataloader\n",
        "        images, labels = data\n",
        "        # calculate outputs by running images through the network\n",
        "        outputs = model2net(images)\n",
        "        # the class with the highest energy is what we choose as prediction\n",
        "        _, predicted = torch.max(outputs.data, 1)\n",
        "        total += labels.size(0)\n",
        "        correct += (predicted == labels).sum().item()\n",
        "third_model_accuracy = 100 * correct // total\n",
        "print(\"Accuracy of the Third Network on the validation images:\", third_model_accuracy ,'%')"
      ],
      "metadata": {
        "colab": {
          "base_uri": "https://localhost:8080/"
        },
        "id": "ceGeE260-5W4",
        "outputId": "1ae79de5-a67f-453b-d4c3-a12853930cd7"
      },
      "execution_count": null,
      "outputs": [
        {
          "output_type": "stream",
          "name": "stdout",
          "text": [
            "Accuracy of the Third Network on the validation images: 90 %\n"
          ]
        }
      ]
    },
    {
      "cell_type": "code",
      "source": [
        "# prepare to count predictions for each class\n",
        "correct_pred = {classname: 0 for classname in classes}\n",
        "total_pred = {classname: 0 for classname in classes}\n",
        "\n",
        "# again no gradients needed\n",
        "with torch.no_grad():\n",
        "    for data in dataloaders['val']: # Modification to map dataloader\n",
        "        images, labels = data\n",
        "        outputs = model2net(images)\n",
        "        _, predictions = torch.max(outputs, 1)\n",
        "        # collect the correct predictions for each class\n",
        "        for label, prediction in zip(labels, predictions):\n",
        "            if label == prediction:\n",
        "                correct_pred[classes[label]] += 1\n",
        "            total_pred[classes[label]] += 1\n",
        "\n",
        "\n",
        "# print accuracy for each class\n",
        "for classname, correct_count in correct_pred.items():\n",
        "    class_accuracy = 100 * float(correct_count) / total_pred[classname]\n",
        "    print(f'Accuracy for class: {classname:5s} is {class_accuracy:.1f} %')\n",
        "\n",
        "    # Plot graph for each class Airplane, Motorbikes, Schooner\n",
        "    plt.title(\"Model 2 Perdiction Accuracy for each class\")\n",
        "    plt.xlabel(\"Class\")\n",
        "    plt.ylabel(\"Accuracy\")\n",
        "    plt.bar(classname, class_accuracy)"
      ],
      "metadata": {
        "colab": {
          "base_uri": "https://localhost:8080/",
          "height": 349
        },
        "id": "eYMIy-uY_GCU",
        "outputId": "7704e2a7-834e-4035-a0cf-23a3fc80f796"
      },
      "execution_count": null,
      "outputs": [
        {
          "output_type": "stream",
          "name": "stdout",
          "text": [
            "Accuracy for class: Motorbikes is 89.2 %\n",
            "Accuracy for class: airplanes is 99.4 %\n",
            "Accuracy for class: schooner is 0.0 %\n"
          ]
        },
        {
          "output_type": "display_data",
          "data": {
            "text/plain": [
              "<Figure size 432x288 with 1 Axes>"
            ],
            "image/png": "[encoded data removed]"
          },
          "metadata": {
            "needs_background": "light"
          }
        }
      ]
    },
    {
      "cell_type": "code",
      "source": [
        "# Reference : (https://pytorch.org/tutorials/beginner/blitz/cifar10_tutorial.html#training-a-classifier)\n",
        "import torch.nn as nn\n",
        "import torch.nn.functional as F\n",
        "\n",
        "\n",
        "class Model3Net(nn.Module):\n",
        "    def __init__(self):\n",
        "        super().__init__()\n",
        "        self.conv1 = nn.Conv2d(3, 6, 6) # Modification to Hyper-Parameters \n",
        "        self.pool = nn.AdaptiveAvgPool2d(6)\n",
        "        self.conv2 = nn.Conv2d(6, 12, 6) # Modification to Hyper-Parameters\n",
        "        self.conv3 = nn.Conv2d(12, 24, 6) # Modification to Hyper-Parameters\n",
        "        self.conv4 = nn.Conv2d(24, 48, 6) # Modification to Hyper-Parameters\n",
        "        self.conv5 = nn.Conv2d(48, 96, 6) # Modification to Hyper-Parameters\n",
        "        self.conv6 = nn.Conv2d(96, 192, 6) # Modification to Hyper-Parameters\n",
        "        self.conv7 = nn.Conv2d(192, 384, 6) # Modification to Hyper-Parameters\n",
        "        self.conv8 = nn.Conv2d(384, 768, 6) # Modification to Hyper-Parameters\n",
        "        self.fc1 = nn.Linear(768 * 6 * 6, 512) # Modification to Hyper-Parameters\n",
        "        self.fc2 = nn.Linear(512, 256) # Modification to Hyper-Parameters\n",
        "        self.fc3 = nn.Linear(256, 128) # Modification to Hyper-Parameters\n",
        "        self.fc4 = nn.Linear(128, 10)\n",
        "\n",
        "    def forward(self, x):\n",
        "        x = self.pool(F.relu(self.conv1(x)))\n",
        "        x = self.pool(F.relu(self.conv2(x)))\n",
        "        x = self.pool(F.relu(self.conv3(x)))\n",
        "        x = self.pool(F.relu(self.conv4(x)))\n",
        "        x = self.pool(F.relu(self.conv5(x)))\n",
        "        x = self.pool(F.relu(self.conv6(x)))\n",
        "        x = self.pool(F.relu(self.conv7(x)))\n",
        "        x = self.pool(F.relu(self.conv8(x)))\n",
        "        x = torch.flatten(x, 1) # flatten all dimensions except batch\n",
        "        x = F.relu(self.fc1(x))\n",
        "        x = F.relu(self.fc2(x))\n",
        "        x = F.relu(self.fc3(x))\n",
        "        x = self.fc4(x)\n",
        "        return x\n",
        "\n",
        "\n",
        "model3net = Model3Net()"
      ],
      "metadata": {
        "id": "5NTWKoBa_53A"
      },
      "execution_count": null,
      "outputs": []
    },
    {
      "cell_type": "code",
      "source": [
        "# Reference : (https://pytorch.org/tutorials/beginner/blitz/cifar10_tutorial.html#training-a-classifier)\n",
        "\n",
        "import torch.optim as optim\n",
        "\n",
        "criterion = nn.CrossEntropyLoss()\n",
        "optimizer = optim.SGD(model3net.parameters(), lr=0.001, momentum=0.9)\n",
        "\n",
        "for epoch in range(10):  # let's run for 5 epochs \n",
        "\n",
        "    running_loss = 0.0\n",
        "    for i, data in enumerate(dataloaders['train'], 0):\n",
        "        # get the inputs; data is a list of [inputs, labels]\n",
        "        inputs, labels = data\n",
        "\n",
        "        # zero the parameter gradients\n",
        "        optimizer.zero_grad()\n",
        "\n",
        "        # forward + backward + optimize\n",
        "        outputs = model3net(inputs) # Modification to map to Model 1 \n",
        "        loss = criterion(outputs, labels)\n",
        "        loss.backward()\n",
        "        optimizer.step()\n",
        "\n",
        "        # print statistics\n",
        "        running_loss += loss.item()\n",
        "        if i % 100 == 99:    # print every 100 mini-batches\n",
        "            print(f'[epoch : {epoch + 1}, mini-batches : {i + 1:5d}] loss: {running_loss / 2000:.3f}')\n",
        "            running_loss = 0.0\n",
        "\n",
        "print('Finished Training Model 3')"
      ],
      "metadata": {
        "colab": {
          "base_uri": "https://localhost:8080/"
        },
        "id": "mztduIOr_-Fl",
        "outputId": "d9c13d71-f6a6-4215-c84f-732dedc4e1e5"
      },
      "execution_count": null,
      "outputs": [
        {
          "output_type": "stream",
          "name": "stdout",
          "text": [
            "[epoch : 1, mini-batches :   100] loss: 0.107\n",
            "[epoch : 1, mini-batches :   200] loss: 0.087\n",
            "[epoch : 1, mini-batches :   300] loss: 0.070\n",
            "[epoch : 2, mini-batches :   100] loss: 0.051\n",
            "[epoch : 2, mini-batches :   200] loss: 0.048\n",
            "[epoch : 2, mini-batches :   300] loss: 0.049\n",
            "[epoch : 3, mini-batches :   100] loss: 0.047\n",
            "[epoch : 3, mini-batches :   200] loss: 0.042\n",
            "[epoch : 3, mini-batches :   300] loss: 0.044\n",
            "[epoch : 4, mini-batches :   100] loss: 0.044\n",
            "[epoch : 4, mini-batches :   200] loss: 0.043\n",
            "[epoch : 4, mini-batches :   300] loss: 0.041\n",
            "[epoch : 5, mini-batches :   100] loss: 0.041\n",
            "[epoch : 5, mini-batches :   200] loss: 0.039\n",
            "[epoch : 5, mini-batches :   300] loss: 0.045\n",
            "[epoch : 6, mini-batches :   100] loss: 0.042\n",
            "[epoch : 6, mini-batches :   200] loss: 0.043\n",
            "[epoch : 6, mini-batches :   300] loss: 0.043\n",
            "[epoch : 7, mini-batches :   100] loss: 0.040\n",
            "[epoch : 7, mini-batches :   200] loss: 0.041\n",
            "[epoch : 7, mini-batches :   300] loss: 0.042\n",
            "[epoch : 8, mini-batches :   100] loss: 0.042\n",
            "[epoch : 8, mini-batches :   200] loss: 0.041\n",
            "[epoch : 8, mini-batches :   300] loss: 0.040\n",
            "[epoch : 9, mini-batches :   100] loss: 0.031\n",
            "[epoch : 9, mini-batches :   200] loss: 0.033\n",
            "[epoch : 9, mini-batches :   300] loss: 0.043\n",
            "[epoch : 10, mini-batches :   100] loss: 0.043\n",
            "[epoch : 10, mini-batches :   200] loss: 0.042\n",
            "[epoch : 10, mini-batches :   300] loss: 0.042\n",
            "Finished Training Model 3\n"
          ]
        }
      ]
    },
    {
      "cell_type": "code",
      "source": [
        "correct = 0\n",
        "total = 0\n",
        "# since we're not training, we don't need to calculate the gradients for our outputs\n",
        "with torch.no_grad():\n",
        "    for data in dataloaders['val']: # Modification to map dataloader\n",
        "        images, labels = data\n",
        "        # calculate outputs by running images through the network\n",
        "        outputs = model3net(images)\n",
        "        # the class with the highest energy is what we choose as prediction\n",
        "        _, predicted = torch.max(outputs.data, 1)\n",
        "        total += labels.size(0)\n",
        "        correct += (predicted == labels).sum().item()\n",
        "fourth_model_accuracy = 100 * correct // total\n",
        "print(\"Accuracy of the Fourth Network on the validation images:\", fourth_model_accuracy ,'%')"
      ],
      "metadata": {
        "colab": {
          "base_uri": "https://localhost:8080/"
        },
        "id": "CED1UBKgABop",
        "outputId": "f84b7bcc-50ed-4bab-bed9-37a95d86b52a"
      },
      "execution_count": null,
      "outputs": [
        {
          "output_type": "stream",
          "name": "stdout",
          "text": [
            "Accuracy of the Fourth Network on the validation images: 46 %\n"
          ]
        }
      ]
    },
    {
      "cell_type": "code",
      "source": [
        "# prepare to count predictions for each class\n",
        "correct_pred = {classname: 0 for classname in classes}\n",
        "total_pred = {classname: 0 for classname in classes}\n",
        "\n",
        "# again no gradients needed\n",
        "with torch.no_grad():\n",
        "    for data in dataloaders['val']: # Modification to map dataloader\n",
        "        images, labels = data\n",
        "        outputs = model3net(images)\n",
        "        _, predictions = torch.max(outputs, 1)\n",
        "        # collect the correct predictions for each class\n",
        "        for label, prediction in zip(labels, predictions):\n",
        "            if label == prediction:\n",
        "                correct_pred[classes[label]] += 1\n",
        "            total_pred[classes[label]] += 1\n",
        "\n",
        "\n",
        "# print accuracy for each class\n",
        "for classname, correct_count in correct_pred.items():\n",
        "    class_accuracy = 100 * float(correct_count) / total_pred[classname]\n",
        "    print(f'Accuracy for class: {classname:5s} is {class_accuracy:.1f} %')\n",
        "\n",
        "    # Plot graph for each class Airplane, Motorbikes, Schooner\n",
        "    plt.title(\"Model 3 Perdiction Accuracy for each class\")\n",
        "    plt.xlabel(\"Class\")\n",
        "    plt.ylabel(\"Accuracy\")\n",
        "    plt.bar(classname, class_accuracy)"
      ],
      "metadata": {
        "colab": {
          "base_uri": "https://localhost:8080/",
          "height": 349
        },
        "id": "cy56GVHcAElv",
        "outputId": "fe66be90-fe69-4f42-9814-255cc1d12fe5"
      },
      "execution_count": null,
      "outputs": [
        {
          "output_type": "stream",
          "name": "stdout",
          "text": [
            "Accuracy for class: Motorbikes is 0.0 %\n",
            "Accuracy for class: airplanes is 100.0 %\n",
            "Accuracy for class: schooner is 0.0 %\n"
          ]
        },
        {
          "output_type": "display_data",
          "data": {
            "text/plain": [
              "<Figure size 432x288 with 1 Axes>"
            ],
            "image/png": "[encoded data removed]"
          },
          "metadata": {
            "needs_background": "light"
          }
        }
      ]
    },
    {
      "cell_type": "code",
      "source": [
        "# Plot graph for each class Airplane, Motorbikes, Schooner\n",
        "plt.title(\"Various Model Perdiction Accuracy\")\n",
        "plt.xlabel(\"Model\")\n",
        "plt.ylabel(\"Accuracy\")\n",
        "x = [\"Base Model\", \"Model 1\", \"Model 2\", \"Model 3\"]\n",
        "y = [first_model_accuracy,second_model_accuracy,third_model_accuracy,fourth_model_accuracy]\n",
        "plt.bar(x, y)"
      ],
      "metadata": {
        "colab": {
          "base_uri": "https://localhost:8080/",
          "height": 313
        },
        "id": "mWhcsIOdSsFO",
        "outputId": "631b4915-e662-4a3d-ac04-7c40912c6c2b"
      },
      "execution_count": null,
      "outputs": [
        {
          "output_type": "execute_result",
          "data": {
            "text/plain": [
              "<BarContainer object of 4 artists>"
            ]
          },
          "metadata": {},
          "execution_count": 105
        },
        {
          "output_type": "display_data",
          "data": {
            "text/plain": [
              "<Figure size 432x288 with 1 Axes>"
            ],
            "image/png": "[encoded data removed]"
          },
          "metadata": {
            "needs_background": "light"
          }
        }
      ]
    },
    {
      "cell_type": "code",
      "source": [
        "from torch.utils.data.distributed import Dataset\n",
        "# Reference: (https://stackoverflow.com/questions/51677788/data-augmentation-in-pytorch)\n",
        "class experimental_dataset(Dataset):\n",
        "\n",
        "    def __init__(self, data, transform):\n",
        "        self.data = data\n",
        "        self.transform = transform\n",
        "\n",
        "    def __len__(self):\n",
        "        return len(self.data.shape[0])\n",
        "\n",
        "    def __getitem__(self, idx):\n",
        "        item = self.data[idx]\n",
        "        item = self.transform(item)\n",
        "        return item\n",
        "\n",
        "transform = transforms.Compose([\n",
        "    transforms.ToPILImage,\n",
        "    transforms.RandomRotation(5),\n",
        "    transforms.GaussianBlur(kernel_size=3),\n",
        "    transforms.RandomAdjustSharpness,\n",
        "    transforms.RandomHorizontalFlip(),\n",
        "    transforms.ToTensor()\n",
        "])\n",
        "\n",
        "train_dataset = experimental_dataset(dataloaders['train'],transform)\n",
        "\n",
        "print(train_dataset)"
      ],
      "metadata": {
        "colab": {
          "base_uri": "https://localhost:8080/"
        },
        "id": "CgGZYrTjNx7a",
        "outputId": "b68ee2ea-476f-477e-9a72-f3c37a810c11"
      },
      "execution_count": null,
      "outputs": [
        {
          "output_type": "stream",
          "name": "stdout",
          "text": [
            "<__main__.experimental_dataset object at 0x7f83ef9fc2d0>\n"
          ]
        }
      ]
    },
    {
      "cell_type": "markdown",
      "source": [
        "Running Model 2 on Transformed Training Set"
      ],
      "metadata": {
        "id": "8bUlF1YGqrwb"
      }
    }
  ]
}